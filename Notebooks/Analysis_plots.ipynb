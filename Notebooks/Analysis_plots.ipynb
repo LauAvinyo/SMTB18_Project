{
 "cells": [
  {
   "cell_type": "code",
   "execution_count": 4,
   "metadata": {},
   "outputs": [],
   "source": [
    "homo = '/mnt/c/Users/laura/SMTB18/SMTB18_Project/Data/Homomers/'\n",
    "hete = '/mnt/c/Users/laura/SMTB18/SMTB18_Project/Data/Heteromers/'"
   ]
  },
  {
   "cell_type": "code",
   "execution_count": 5,
   "metadata": {},
   "outputs": [],
   "source": [
    "import pandas as pd\n",
    "import matplotlib.pyplot as plt"
   ]
  },
  {
   "cell_type": "code",
   "execution_count": 263,
   "metadata": {},
   "outputs": [
    {
     "data": {
      "text/html": [
       "<div>\n",
       "<style scoped>\n",
       "    .dataframe tbody tr th:only-of-type {\n",
       "        vertical-align: middle;\n",
       "    }\n",
       "\n",
       "    .dataframe tbody tr th {\n",
       "        vertical-align: top;\n",
       "    }\n",
       "\n",
       "    .dataframe thead th {\n",
       "        text-align: right;\n",
       "    }\n",
       "</style>\n",
       "<table border=\"1\" class=\"dataframe\">\n",
       "  <thead>\n",
       "    <tr style=\"text-align: right;\">\n",
       "      <th></th>\n",
       "      <th>Function</th>\n",
       "      <th>UniID</th>\n",
       "      <th>Species</th>\n",
       "      <th>PDB chain</th>\n",
       "    </tr>\n",
       "  </thead>\n",
       "  <tbody>\n",
       "    <tr>\n",
       "      <th>0</th>\n",
       "      <td>Transferase</td>\n",
       "      <td>P29295</td>\n",
       "      <td>Scer</td>\n",
       "      <td>5cy3</td>\n",
       "    </tr>\n",
       "    <tr>\n",
       "      <th>1</th>\n",
       "      <td>Hydrolase</td>\n",
       "      <td>P20449</td>\n",
       "      <td>Scer</td>\n",
       "      <td>3peu    A</td>\n",
       "    </tr>\n",
       "    <tr>\n",
       "      <th>2</th>\n",
       "      <td>Transcription</td>\n",
       "      <td>P54784</td>\n",
       "      <td>Scer 1zhi   A</td>\n",
       "      <td>NaN</td>\n",
       "    </tr>\n",
       "    <tr>\n",
       "      <th>3</th>\n",
       "      <td>Hemoglobine</td>\n",
       "      <td>P68871</td>\n",
       "      <td>Hsap</td>\n",
       "      <td>1A3N    A</td>\n",
       "    </tr>\n",
       "    <tr>\n",
       "      <th>4</th>\n",
       "      <td>CompheEri</td>\n",
       "      <td>P01588</td>\n",
       "      <td>Hsap</td>\n",
       "      <td>1eer</td>\n",
       "    </tr>\n",
       "    <tr>\n",
       "      <th>5</th>\n",
       "      <td>Electrans</td>\n",
       "      <td>P13804</td>\n",
       "      <td>Hsap</td>\n",
       "      <td>1EFV</td>\n",
       "    </tr>\n",
       "    <tr>\n",
       "      <th>6</th>\n",
       "      <td>Transferase</td>\n",
       "      <td>P18956</td>\n",
       "      <td>Ecoli</td>\n",
       "      <td>2E0X</td>\n",
       "    </tr>\n",
       "    <tr>\n",
       "      <th>7</th>\n",
       "      <td>Ligase</td>\n",
       "      <td>PoA6T9</td>\n",
       "      <td>Ecoli</td>\n",
       "      <td>3a7a</td>\n",
       "    </tr>\n",
       "    <tr>\n",
       "      <th>8</th>\n",
       "      <td>mRNAbind</td>\n",
       "      <td>G5ECF1</td>\n",
       "      <td>Celg</td>\n",
       "      <td>3Zhe</td>\n",
       "    </tr>\n",
       "    <tr>\n",
       "      <th>9</th>\n",
       "      <td>Rnabinding</td>\n",
       "      <td>Q9XV58</td>\n",
       "      <td>Celg</td>\n",
       "      <td>3NVO</td>\n",
       "    </tr>\n",
       "  </tbody>\n",
       "</table>\n",
       "</div>"
      ],
      "text/plain": [
       "        Function   UniID        Species PDB chain  \n",
       "0    Transferase  P29295           Scer        5cy3\n",
       "1      Hydrolase  P20449           Scer   3peu    A\n",
       "2  Transcription  P54784  Scer 1zhi   A         NaN\n",
       "3    Hemoglobine  P68871           Hsap   1A3N    A\n",
       "4      CompheEri  P01588           Hsap        1eer\n",
       "5      Electrans  P13804           Hsap        1EFV\n",
       "6    Transferase  P18956          Ecoli        2E0X\n",
       "7         Ligase  PoA6T9          Ecoli        3a7a\n",
       "8       mRNAbind  G5ECF1           Celg        3Zhe\n",
       "9     Rnabinding  Q9XV58           Celg        3NVO"
      ]
     },
     "execution_count": 263,
     "metadata": {},
     "output_type": "execute_result"
    }
   ],
   "source": [
    "homo = pd.read_table('../Data/Heteromers/protList.tab')\n",
    "homo"
   ]
  },
  {
   "cell_type": "code",
   "execution_count": 323,
   "metadata": {},
   "outputs": [],
   "source": [
    "code = 'G5ECF1'\n",
    "pdb='3zhe_A'"
   ]
  },
  {
   "cell_type": "code",
   "execution_count": 324,
   "metadata": {},
   "outputs": [
    {
     "data": {
      "text/html": [
       "<div>\n",
       "<style scoped>\n",
       "    .dataframe tbody tr th:only-of-type {\n",
       "        vertical-align: middle;\n",
       "    }\n",
       "\n",
       "    .dataframe tbody tr th {\n",
       "        vertical-align: top;\n",
       "    }\n",
       "\n",
       "    .dataframe thead th {\n",
       "        text-align: right;\n",
       "    }\n",
       "</style>\n",
       "<table border=\"1\" class=\"dataframe\">\n",
       "  <thead>\n",
       "    <tr style=\"text-align: right;\">\n",
       "      <th></th>\n",
       "      <th>pos</th>\n",
       "      <th>entropy</th>\n",
       "      <th>cons</th>\n",
       "      <th>rad</th>\n",
       "      <th>ratio</th>\n",
       "      <th>norm</th>\n",
       "    </tr>\n",
       "  </thead>\n",
       "  <tbody>\n",
       "    <tr>\n",
       "      <th>0</th>\n",
       "      <td>1</td>\n",
       "      <td>0.693147</td>\n",
       "      <td>253</td>\n",
       "      <td>0</td>\n",
       "      <td>0.000000</td>\n",
       "      <td>-1.000000</td>\n",
       "    </tr>\n",
       "    <tr>\n",
       "      <th>1</th>\n",
       "      <td>2</td>\n",
       "      <td>0.792285</td>\n",
       "      <td>28</td>\n",
       "      <td>8</td>\n",
       "      <td>3.500000</td>\n",
       "      <td>0.284205</td>\n",
       "    </tr>\n",
       "    <tr>\n",
       "      <th>2</th>\n",
       "      <td>3</td>\n",
       "      <td>0.942664</td>\n",
       "      <td>37</td>\n",
       "      <td>18</td>\n",
       "      <td>2.055556</td>\n",
       "      <td>-0.245784</td>\n",
       "    </tr>\n",
       "    <tr>\n",
       "      <th>3</th>\n",
       "      <td>4</td>\n",
       "      <td>1.048767</td>\n",
       "      <td>55</td>\n",
       "      <td>11</td>\n",
       "      <td>5.000000</td>\n",
       "      <td>0.834579</td>\n",
       "    </tr>\n",
       "    <tr>\n",
       "      <th>4</th>\n",
       "      <td>5</td>\n",
       "      <td>1.200318</td>\n",
       "      <td>81</td>\n",
       "      <td>39</td>\n",
       "      <td>2.076923</td>\n",
       "      <td>-0.237944</td>\n",
       "    </tr>\n",
       "  </tbody>\n",
       "</table>\n",
       "</div>"
      ],
      "text/plain": [
       "   pos   entropy  cons  rad     ratio      norm\n",
       "0    1  0.693147   253    0  0.000000 -1.000000\n",
       "1    2  0.792285    28    8  3.500000  0.284205\n",
       "2    3  0.942664    37   18  2.055556 -0.245784\n",
       "3    4  1.048767    55   11  5.000000  0.834579\n",
       "4    5  1.200318    81   39  2.076923 -0.237944"
      ]
     },
     "execution_count": 324,
     "metadata": {},
     "output_type": "execute_result"
    }
   ],
   "source": [
    "shan = pd.read_table('../Data/Heteromers/'+code+'.shannon')\n",
    "rate = pd.read_table('../Data/Heteromers/'+code+'.rate')\n",
    "data = pd.concat([shan, rate], axis=1)\n",
    "data.head()"
   ]
  },
  {
   "cell_type": "code",
   "execution_count": 325,
   "metadata": {},
   "outputs": [],
   "source": [
    "def readFasta(file):\n",
    "    with open(file, 'r') as f:\n",
    "        s = ''\n",
    "        for line in f:\n",
    "            if line.startswith('>'):\n",
    "                continue\n",
    "            s += line.strip()\n",
    "    return s"
   ]
  },
  {
   "cell_type": "code",
   "execution_count": null,
   "metadata": {},
   "outputs": [],
   "source": []
  },
  {
   "cell_type": "code",
   "execution_count": 326,
   "metadata": {},
   "outputs": [
    {
     "name": "stdout",
     "output_type": "stream",
     "text": [
      "\u001b[0m\u001b[01;32m1eer_A.fasta\u001b[0m*  \u001b[01;32m1efv_A.surf\u001b[0m*   \u001b[01;32m2e0x_A.pdb\u001b[0m*    \u001b[01;32m3peu_A.fasta\u001b[0m*  \u001b[01;32m3zhe_A.surf\u001b[0m*\n",
      "\u001b[01;32m1eer_A.pdb\u001b[0m*    \u001b[01;32m1zhi_A.fasta\u001b[0m*  \u001b[01;32m2e0x_A.surf\u001b[0m*   \u001b[01;32m3peu_A.pdb\u001b[0m*\n",
      "\u001b[01;32m1eer_A.surf\u001b[0m*   \u001b[01;32m1zhi_A.pdb\u001b[0m*    \u001b[01;32m3a7a_B.fasta\u001b[0m*  \u001b[01;32m3peu_A.surf\u001b[0m*\n",
      "\u001b[01;32m1efv_A.fasta\u001b[0m*  \u001b[01;32m1zhi_A.surf\u001b[0m*   \u001b[01;32m3a7a_B.pdb\u001b[0m*    \u001b[01;32m3zhe_A.fasta\u001b[0m*\n",
      "\u001b[01;32m1efv_A.pdb\u001b[0m*    \u001b[01;32m2e0x_A.fasta\u001b[0m*  \u001b[01;32m3a7a_B.surf\u001b[0m*   \u001b[01;32m3zhe_A.pdb\u001b[0m*\n"
     ]
    }
   ],
   "source": [
    "ls ../Data/Heteromers/surface/"
   ]
  },
  {
   "cell_type": "code",
   "execution_count": 327,
   "metadata": {},
   "outputs": [],
   "source": [
    "main = readFasta('../Data/Heteromers/'+code+'.fasta')\n",
    "sele = readFasta('../Data/Heteromers/surface/'+pdb+'.fasta')"
   ]
  },
  {
   "cell_type": "code",
   "execution_count": 328,
   "metadata": {},
   "outputs": [
    {
     "data": {
      "text/plain": [
       "'MQKSDEVTEKFKRYCNQLEKYGQTENVHSPVMAMLRRKGRKQLIEIMKRDGDCTSSINKLWIVGYYHPFQFFIRDKEKNMAIAVLLTMFCGELQEMLSLPDDKYPALWNMYIGDFHRYMPDEEIQKCLAVGYYSRAIDLDPNQGRAFHVLAGLRADLNVAQKLRLMILGQLADAPYKKGTELLEYLKFPQKESTDKLMVDFVIWALNEKSKRMDYQMTGIKIVNEFKAEIEQKLEFDWSLIMSTCRLASKLAMKKFGFQQFYNCFDTISTLYITIYSRTISSKCLLAEAISWISDSAEILGHLDEQKNEPHFQKLSVFAKTKWNELNDLVMNHINSVFTSMSLTINPSISMTSFLLNGPISEPNVEFLSQLINYLVSVEFPPMEIIHDREESGPLLRRINQSEQKRLDIQIKTQNDEVNREDWRPVYVLMDYDVIVDKIRIALKIWDIDDFICILPSTVLDELDYQKTKNRAVRPVIRALMELQAEGKIVLKKCDNERSCAEQLVQSARRSAEDHKHIVAFLCKNPSEQKEMEGVTFYDIDQFYMKYLE'"
      ]
     },
     "execution_count": 328,
     "metadata": {},
     "output_type": "execute_result"
    }
   ],
   "source": [
    "main"
   ]
  },
  {
   "cell_type": "code",
   "execution_count": 329,
   "metadata": {},
   "outputs": [],
   "source": [
    "def findSeq(query, seq):\n",
    "    pos = seq.find(query[:10])\n",
    "    return pos"
   ]
  },
  {
   "cell_type": "code",
   "execution_count": 330,
   "metadata": {},
   "outputs": [
    {
     "data": {
      "text/plain": [
       "1"
      ]
     },
     "execution_count": 330,
     "metadata": {},
     "output_type": "execute_result"
    }
   ],
   "source": [
    "findSeq(sele, main)"
   ]
  },
  {
   "cell_type": "code",
   "execution_count": 331,
   "metadata": {},
   "outputs": [
    {
     "data": {
      "text/html": [
       "<div>\n",
       "<style scoped>\n",
       "    .dataframe tbody tr th:only-of-type {\n",
       "        vertical-align: middle;\n",
       "    }\n",
       "\n",
       "    .dataframe tbody tr th {\n",
       "        vertical-align: top;\n",
       "    }\n",
       "\n",
       "    .dataframe thead th {\n",
       "        text-align: right;\n",
       "    }\n",
       "</style>\n",
       "<table border=\"1\" class=\"dataframe\">\n",
       "  <thead>\n",
       "    <tr style=\"text-align: right;\">\n",
       "      <th></th>\n",
       "      <th>aa</th>\n",
       "      <th>pos</th>\n",
       "      <th>surface</th>\n",
       "    </tr>\n",
       "  </thead>\n",
       "  <tbody>\n",
       "    <tr>\n",
       "      <th>0</th>\n",
       "      <td>PHE</td>\n",
       "      <td>312</td>\n",
       "      <td>1</td>\n",
       "    </tr>\n",
       "    <tr>\n",
       "      <th>1</th>\n",
       "      <td>ASP</td>\n",
       "      <td>214</td>\n",
       "      <td>1</td>\n",
       "    </tr>\n",
       "    <tr>\n",
       "      <th>2</th>\n",
       "      <td>SER</td>\n",
       "      <td>243</td>\n",
       "      <td>0</td>\n",
       "    </tr>\n",
       "    <tr>\n",
       "      <th>3</th>\n",
       "      <td>PHE</td>\n",
       "      <td>236</td>\n",
       "      <td>1</td>\n",
       "    </tr>\n",
       "    <tr>\n",
       "      <th>4</th>\n",
       "      <td>GLU</td>\n",
       "      <td>92</td>\n",
       "      <td>1</td>\n",
       "    </tr>\n",
       "  </tbody>\n",
       "</table>\n",
       "</div>"
      ],
      "text/plain": [
       "    aa  pos  surface\n",
       "0  PHE  312        1\n",
       "1  ASP  214        1\n",
       "2  SER  243        0\n",
       "3  PHE  236        1\n",
       "4  GLU   92        1"
      ]
     },
     "execution_count": 331,
     "metadata": {},
     "output_type": "execute_result"
    }
   ],
   "source": [
    "surf = pd.read_table('../Data/Heteromers/surface/'+pdb+'.surf')\n",
    "surf.head()"
   ]
  },
  {
   "cell_type": "code",
   "execution_count": 332,
   "metadata": {},
   "outputs": [],
   "source": [
    "ls ../Data/Heteromers/out_3zhe_interB/\n"
   ]
  },
  {
   "cell_type": "code",
   "execution_count": 337,
   "metadata": {},
   "outputs": [
    {
     "data": {
      "text/html": [
       "<div>\n",
       "<style scoped>\n",
       "    .dataframe tbody tr th:only-of-type {\n",
       "        vertical-align: middle;\n",
       "    }\n",
       "\n",
       "    .dataframe tbody tr th {\n",
       "        vertical-align: top;\n",
       "    }\n",
       "\n",
       "    .dataframe thead th {\n",
       "        text-align: right;\n",
       "    }\n",
       "</style>\n",
       "<table border=\"1\" class=\"dataframe\">\n",
       "  <thead>\n",
       "    <tr style=\"text-align: right;\">\n",
       "      <th></th>\n",
       "      <th>aa</th>\n",
       "      <th>pos</th>\n",
       "      <th>inter</th>\n",
       "    </tr>\n",
       "  </thead>\n",
       "  <tbody>\n",
       "    <tr>\n",
       "      <th>0</th>\n",
       "      <td>A</td>\n",
       "      <td>370</td>\n",
       "      <td>I</td>\n",
       "    </tr>\n",
       "    <tr>\n",
       "      <th>1</th>\n",
       "      <td>A</td>\n",
       "      <td>359</td>\n",
       "      <td>I</td>\n",
       "    </tr>\n",
       "    <tr>\n",
       "      <th>2</th>\n",
       "      <td>A</td>\n",
       "      <td>136</td>\n",
       "      <td>I</td>\n",
       "    </tr>\n",
       "    <tr>\n",
       "      <th>3</th>\n",
       "      <td>A</td>\n",
       "      <td>100</td>\n",
       "      <td>I</td>\n",
       "    </tr>\n",
       "    <tr>\n",
       "      <th>4</th>\n",
       "      <td>A</td>\n",
       "      <td>123</td>\n",
       "      <td>C</td>\n",
       "    </tr>\n",
       "  </tbody>\n",
       "</table>\n",
       "</div>"
      ],
      "text/plain": [
       "  aa  pos inter\n",
       "0  A  370     I\n",
       "1  A  359     I\n",
       "2  A  136     I\n",
       "3  A  100     I\n",
       "4  A  123     C"
      ]
     },
     "execution_count": 337,
     "metadata": {},
     "output_type": "execute_result"
    }
   ],
   "source": [
    "intr = pd.read_table('../Data/Heteromers/out_'+pdb[:4]+'_interB/molecule_1.txt', sep=' ', header=-1, names=['aa', 'pos', 'inter'])\n",
    "intr.head()"
   ]
  },
  {
   "cell_type": "code",
   "execution_count": 338,
   "metadata": {},
   "outputs": [],
   "source": [
    "dataDic = {}\n",
    "for i in data['pos'].index:\n",
    "    dataDic[data.iloc[i]['pos']] = (data.iloc[i]['entropy'], data.iloc[i]['norm'])\n",
    "surfDic = {} \n",
    "for i in surf['pos'].index:\n",
    "    surfDic[surf.iloc[i]['pos']] = (surf.iloc[i]['surface'])"
   ]
  },
  {
   "cell_type": "code",
   "execution_count": 339,
   "metadata": {},
   "outputs": [],
   "source": [
    "intrI = intr['inter'] == 'I'\n",
    "inter = set(intr[intrI]['pos'])"
   ]
  },
  {
   "cell_type": "code",
   "execution_count": null,
   "metadata": {},
   "outputs": [],
   "source": []
  },
  {
   "cell_type": "code",
   "execution_count": 340,
   "metadata": {},
   "outputs": [],
   "source": [
    "surfHist = tuple(dataDic[i][0] for i in surfDic if surfDic[i] == 1 and i in dataDic and i not in inter)\n",
    "coreHist = tuple(dataDic[i][0] for i in surfDic if surfDic[i] == 0 and i in dataDic and i not in inter)\n",
    "intrHist = tuple(dataDic[i][0] for i in surfDic if i in inter)"
   ]
  },
  {
   "cell_type": "code",
   "execution_count": 341,
   "metadata": {},
   "outputs": [
    {
     "data": {
      "text/plain": [
       "Text(0.5,0,'Shannon')"
      ]
     },
     "execution_count": 341,
     "metadata": {},
     "output_type": "execute_result"
    },
    {
     "data": {
      "image/png": "[encoded data removed]",
      "text/plain": [
       "<Figure size 432x288 with 1 Axes>"
      ]
     },
     "metadata": {},
     "output_type": "display_data"
    }
   ],
   "source": [
    "plt.hist(surfHist, label='surface', alpha=1)\n",
    "plt.hist(coreHist, label='core', alpha=0.75)\n",
    "plt.hist(intrHist, label='interface', alpha=0.5)\n",
    "plt.legend()\n",
    "plt.xlabel('Shannon')"
   ]
  },
  {
   "cell_type": "code",
   "execution_count": 349,
   "metadata": {},
   "outputs": [
    {
     "data": {
      "text/plain": [
       "{'boxes': [<matplotlib.lines.Line2D at 0x7fa1c1788b00>],\n",
       " 'caps': [<matplotlib.lines.Line2D at 0x7fa1c178d7b8>,\n",
       "  <matplotlib.lines.Line2D at 0x7fa1c178dbe0>],\n",
       " 'fliers': [<matplotlib.lines.Line2D at 0x7fa1c1792470>],\n",
       " 'means': [],\n",
       " 'medians': [<matplotlib.lines.Line2D at 0x7fa1c178dd30>],\n",
       " 'whiskers': [<matplotlib.lines.Line2D at 0x7fa1c1788f28>,\n",
       "  <matplotlib.lines.Line2D at 0x7fa1c178d390>]}"
      ]
     },
     "execution_count": 349,
     "metadata": {},
     "output_type": "execute_result"
    },
    {
     "data": {
      "image/png": "[encoded data removed]",
      "text/plain": [
       "<Figure size 432x288 with 1 Axes>"
      ]
     },
     "metadata": {},
     "output_type": "display_data"
    }
   ],
   "source": [
    "plt.boxplot(surfHist, positions=[1.2])\n",
    "plt.boxplot(coreHist)\n",
    "plt.boxplot(intrHist, positions=[0.8])"
   ]
  },
  {
   "cell_type": "code",
   "execution_count": null,
   "metadata": {},
   "outputs": [],
   "source": []
  },
  {
   "cell_type": "code",
   "execution_count": null,
   "metadata": {},
   "outputs": [],
   "source": []
  }
 ],
 "metadata": {
  "kernelspec": {
   "display_name": "Python 3",
   "language": "python",
   "name": "python3"
  },
  "language_info": {
   "codemirror_mode": {
    "name": "ipython",
    "version": 3
   },
   "file_extension": ".py",
   "mimetype": "text/x-python",
   "name": "python",
   "nbconvert_exporter": "python",
   "pygments_lexer": "ipython3",
   "version": "3.5.2"
  }
 },
 "nbformat": 4,
 "nbformat_minor": 2
}
