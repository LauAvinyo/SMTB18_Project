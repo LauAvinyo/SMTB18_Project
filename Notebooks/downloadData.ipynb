{
 "cells": [
  {
   "cell_type": "code",
   "execution_count": 5,
   "metadata": {},
   "outputs": [
    {
     "name": "stderr",
     "output_type": "stream",
     "text": [
      "/usr/lib/python3.5/importlib/_bootstrap.py:222: RuntimeWarning: numpy.dtype size changed, may indicate binary incompatibility. Expected 96, got 88\n",
      "  return f(*args, **kwds)\n"
     ]
    }
   ],
   "source": [
    "import pandas as pd\n",
    "import wget "
   ]
  },
  {
   "cell_type": "code",
   "execution_count": 6,
   "metadata": {},
   "outputs": [
    {
     "name": "stderr",
     "output_type": "stream",
     "text": [
      "/usr/local/lib/python3.5/dist-packages/ipykernel_launcher.py:1: ParserWarning: Falling back to the 'python' engine because the 'c' engine does not support regex separators (separators > 1 char and different from '\\s+' are interpreted as regex); you can avoid this warning by specifying engine='python'.\n",
      "  \"\"\"Entry point for launching an IPython kernel.\n"
     ]
    }
   ],
   "source": [
    "data = pd.read_table('../Data/Homomers/protList.tab', sep='  ')"
   ]
  },
  {
   "cell_type": "code",
   "execution_count": 7,
   "metadata": {},
   "outputs": [
    {
     "data": {
      "text/html": [
       "<div>\n",
       "<style scoped>\n",
       "    .dataframe tbody tr th:only-of-type {\n",
       "        vertical-align: middle;\n",
       "    }\n",
       "\n",
       "    .dataframe tbody tr th {\n",
       "        vertical-align: top;\n",
       "    }\n",
       "\n",
       "    .dataframe thead th {\n",
       "        text-align: right;\n",
       "    }\n",
       "</style>\n",
       "<table border=\"1\" class=\"dataframe\">\n",
       "  <thead>\n",
       "    <tr style=\"text-align: right;\">\n",
       "      <th></th>\n",
       "      <th>Function</th>\n",
       "      <th>UniID</th>\n",
       "      <th>Species</th>\n",
       "      <th>PDB</th>\n",
       "    </tr>\n",
       "  </thead>\n",
       "  <tbody>\n",
       "    <tr>\n",
       "      <th>0</th>\n",
       "      <td>Transferase</td>\n",
       "      <td>Q06592</td>\n",
       "      <td>Scer</td>\n",
       "      <td>1qso</td>\n",
       "    </tr>\n",
       "    <tr>\n",
       "      <th>1</th>\n",
       "      <td>CellCycle</td>\n",
       "      <td>P32325</td>\n",
       "      <td>Scer</td>\n",
       "      <td>3qbz</td>\n",
       "    </tr>\n",
       "    <tr>\n",
       "      <th>2</th>\n",
       "      <td>RNAbinding</td>\n",
       "      <td>P57743</td>\n",
       "      <td>Scer</td>\n",
       "      <td>4n0a</td>\n",
       "    </tr>\n",
       "    <tr>\n",
       "      <th>3</th>\n",
       "      <td>Oxidoreductase</td>\n",
       "      <td>O75874</td>\n",
       "      <td>Hsap</td>\n",
       "      <td>4kzo</td>\n",
       "    </tr>\n",
       "    <tr>\n",
       "      <th>4</th>\n",
       "      <td>Transport</td>\n",
       "      <td>P02766</td>\n",
       "      <td>Hsap</td>\n",
       "      <td>4n85</td>\n",
       "    </tr>\n",
       "  </tbody>\n",
       "</table>\n",
       "</div>"
      ],
      "text/plain": [
       "         Function   UniID Species   PDB\n",
       "0     Transferase  Q06592    Scer  1qso\n",
       "1       CellCycle  P32325    Scer  3qbz\n",
       "2      RNAbinding  P57743    Scer  4n0a\n",
       "3  Oxidoreductase  O75874    Hsap  4kzo\n",
       "4       Transport  P02766    Hsap  4n85"
      ]
     },
     "execution_count": 7,
     "metadata": {},
     "output_type": "execute_result"
    }
   ],
   "source": [
    "data.head()"
   ]
  },
  {
   "cell_type": "code",
   "execution_count": 8,
   "metadata": {},
   "outputs": [
    {
     "data": {
      "text/plain": [
       "0     Scer\n",
       "1     Scer\n",
       "2     Scer\n",
       "3     Hsap\n",
       "4     Hsap\n",
       "5    Ecoli\n",
       "6    Ecoli\n",
       "7     Celg\n",
       "8     Celg\n",
       "Name: Species, dtype: object"
      ]
     },
     "execution_count": 8,
     "metadata": {},
     "output_type": "execute_result"
    }
   ],
   "source": [
    "data['Species']"
   ]
  },
  {
   "cell_type": "code",
   "execution_count": 9,
   "metadata": {},
   "outputs": [],
   "source": [
    "url = \"https://files.rcsb.org/download/\"XXXX\".pdb\""
   ]
  },
  {
   "cell_type": "code",
   "execution_count": 10,
   "metadata": {},
   "outputs": [],
   "source": [
    "filename = "
   ]
  },
  {
   "cell_type": "code",
   "execution_count": 11,
   "metadata": {},
   "outputs": [
    {
     "data": {
      "text/plain": [
       "'razorback.mp3'"
      ]
     },
     "execution_count": 11,
     "metadata": {},
     "output_type": "execute_result"
    }
   ],
   "source": [
    "filename"
   ]
  },
  {
   "cell_type": "code",
   "execution_count": 12,
   "metadata": {},
   "outputs": [],
   "source": [
    "mv *.mp3 ../Data/Homomers/"
   ]
  },
  {
   "cell_type": "code",
   "execution_count": 13,
   "metadata": {},
   "outputs": [
    {
     "name": "stdout",
     "output_type": "stream",
     "text": [
      "\u001b[0m\u001b[01;32mprotList.tab\u001b[0m*  \u001b[01;32mrazorback (1).mp3\u001b[0m*  \u001b[01;32mrazorback.mp3\u001b[0m*\n"
     ]
    }
   ],
   "source": [
    "ls ../Data/Homomers/"
   ]
  },
  {
   "cell_type": "code",
   "execution_count": 14,
   "metadata": {},
   "outputs": [
    {
     "name": "stdout",
     "output_type": "stream",
     "text": [
      "Hello world!\n"
     ]
    }
   ],
   "source": [
    "print(\"Hello world!\")"
   ]
  },
  {
   "cell_type": "code",
   "execution_count": 17,
   "metadata": {},
   "outputs": [
    {
     "name": "stdout",
     "output_type": "stream",
     "text": [
      "1qso\n",
      "https://files.rcsb.org/download/1qso.pdb\n",
      "3qbz\n",
      "https://files.rcsb.org/download/3qbz.pdb\n",
      "4n0a\n",
      "https://files.rcsb.org/download/4n0a.pdb\n",
      "4kzo\n",
      "https://files.rcsb.org/download/4kzo.pdb\n",
      "4n85\n",
      "https://files.rcsb.org/download/4n85.pdb\n",
      "2x2w\n",
      "https://files.rcsb.org/download/2x2w.pdb\n",
      "2v43\n",
      "https://files.rcsb.org/download/2v43.pdb\n",
      "2o3J\n",
      "https://files.rcsb.org/download/2o3J.pdb\n",
      "5ca5\n",
      "https://files.rcsb.org/download/5ca5.pdb\n"
     ]
    }
   ],
   "source": [
    "for code in data['PDB']:\n",
    "    print(code)\n",
    "    url = \"https://files.rcsb.org/download/\"+code+\".pdb\"\n",
    "    print(url)\n",
    "    wget.download(url)"
   ]
  },
  {
   "cell_type": "code",
   "execution_count": 18,
   "metadata": {},
   "outputs": [],
   "source": [
    "mv *.pdb ../Data/Homomers/"
   ]
  },
  {
   "cell_type": "code",
   "execution_count": null,
   "metadata": {},
   "outputs": [],
   "source": []
  }
 ],
 "metadata": {
  "kernelspec": {
   "display_name": "Python 3",
   "language": "python",
   "name": "python3"
  },
  "language_info": {
   "codemirror_mode": {
    "name": "ipython",
    "version": 3
   },
   "file_extension": ".py",
   "mimetype": "text/x-python",
   "name": "python",
   "nbconvert_exporter": "python",
   "pygments_lexer": "ipython3",
   "version": "3.5.2"
  }
 },
 "nbformat": 4,
 "nbformat_minor": 2
}
