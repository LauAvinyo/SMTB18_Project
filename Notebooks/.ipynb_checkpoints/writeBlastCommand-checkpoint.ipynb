{
 "cells": [
  {
   "cell_type": "code",
   "execution_count": 2,
   "metadata": {},
   "outputs": [
    {
     "name": "stderr",
     "output_type": "stream",
     "text": [
      "/usr/lib/python3.5/importlib/_bootstrap.py:222: RuntimeWarning: numpy.dtype size changed, may indicate binary incompatibility. Expected 96, got 88\n",
      "  return f(*args, **kwds)\n",
      "/usr/lib/python3.5/importlib/_bootstrap.py:222: RuntimeWarning: numpy.dtype size changed, may indicate binary incompatibility. Expected 96, got 88\n",
      "  return f(*args, **kwds)\n"
     ]
    }
   ],
   "source": [
    "import pandas as pd\n",
    "import "
   ]
  },
  {
   "cell_type": "code",
   "execution_count": 18,
   "metadata": {},
   "outputs": [
    {
     "data": {
      "text/html": [
       "<div>\n",
       "<style scoped>\n",
       "    .dataframe tbody tr th:only-of-type {\n",
       "        vertical-align: middle;\n",
       "    }\n",
       "\n",
       "    .dataframe tbody tr th {\n",
       "        vertical-align: top;\n",
       "    }\n",
       "\n",
       "    .dataframe thead th {\n",
       "        text-align: right;\n",
       "    }\n",
       "</style>\n",
       "<table border=\"1\" class=\"dataframe\">\n",
       "  <thead>\n",
       "    <tr style=\"text-align: right;\">\n",
       "      <th></th>\n",
       "      <th>Function</th>\n",
       "      <th>UniID</th>\n",
       "      <th>Species</th>\n",
       "      <th>PDB</th>\n",
       "    </tr>\n",
       "  </thead>\n",
       "  <tbody>\n",
       "    <tr>\n",
       "      <th>4</th>\n",
       "      <td>Transport</td>\n",
       "      <td>P02766</td>\n",
       "      <td>Hsap</td>\n",
       "      <td>4n85</td>\n",
       "    </tr>\n",
       "    <tr>\n",
       "      <th>5</th>\n",
       "      <td>Transferase</td>\n",
       "      <td>P0A6C8</td>\n",
       "      <td>Ecoli</td>\n",
       "      <td>2x2w</td>\n",
       "    </tr>\n",
       "    <tr>\n",
       "      <th>6</th>\n",
       "      <td>StressResponse</td>\n",
       "      <td>POAFX9</td>\n",
       "      <td>Ecoli</td>\n",
       "      <td>2v43</td>\n",
       "    </tr>\n",
       "    <tr>\n",
       "      <th>7</th>\n",
       "      <td>Oxidoreductase</td>\n",
       "      <td>Q19905</td>\n",
       "      <td>Celg</td>\n",
       "      <td>2o3J</td>\n",
       "    </tr>\n",
       "    <tr>\n",
       "      <th>8</th>\n",
       "      <td>RNAbinding</td>\n",
       "      <td>B3GWA1</td>\n",
       "      <td>Celg</td>\n",
       "      <td>5ca5</td>\n",
       "    </tr>\n",
       "  </tbody>\n",
       "</table>\n",
       "</div>"
      ],
      "text/plain": [
       "         Function   UniID Species   PDB\n",
       "4       Transport  P02766    Hsap  4n85\n",
       "5     Transferase  P0A6C8   Ecoli  2x2w\n",
       "6  StressResponse  POAFX9   Ecoli  2v43\n",
       "7  Oxidoreductase  Q19905    Celg  2o3J\n",
       "8      RNAbinding  B3GWA1    Celg  5ca5"
      ]
     },
     "execution_count": 18,
     "metadata": {},
     "output_type": "execute_result"
    }
   ],
   "source": [
    "data = pd.read_table('../Data/Homomers/protList.tab')\n",
    "data.tail()"
   ]
  },
  {
   "cell_type": "code",
   "execution_count": 19,
   "metadata": {},
   "outputs": [],
   "source": [
    "taxa = {\n",
    "    'Scer': 'Saccharomycetales',\n",
    "    'Hsap':'Mammalia',\n",
    "    'Ecoli':'Enterobacteriales',\n",
    "    'Celg':'Arthropoda'\n",
    "}"
   ]
  },
  {
   "cell_type": "code",
   "execution_count": 28,
   "metadata": {},
   "outputs": [],
   "source": [
    "outFile = open('blast.sh', 'w')\n",
    "for a in data.index:\n",
    "    spc = data.iloc[a]['Species']\n",
    "    uni = data.iloc[a]['UniID']\n",
    "    print(\"blastp -query \"+data.iloc[a]['UniID']+\".fasta -db swissprot -remote \\\n",
    "    -entrez_query \"+ taxa[data.iloc[a]['Species']]+\"[Organism]  -outfmt '6 sseqid' -out \"+data.iloc[a]['UniID']+\".blast\", file=outFile)\n",
    "outFile.close()"
   ]
  },
  {
   "cell_type": "code",
   "execution_count": 29,
   "metadata": {},
   "outputs": [
    {
     "ename": "SyntaxError",
     "evalue": "invalid syntax (<ipython-input-29-d525719e693b>, line 1)",
     "output_type": "error",
     "traceback": [
      "\u001b[0;36m  File \u001b[0;32m\"<ipython-input-29-d525719e693b>\"\u001b[0;36m, line \u001b[0;32m1\u001b[0m\n\u001b[0;31m    bash blast.sh\u001b[0m\n\u001b[0m             ^\u001b[0m\n\u001b[0;31mSyntaxError\u001b[0m\u001b[0;31m:\u001b[0m invalid syntax\n"
     ]
    }
   ],
   "source": [
    "bash blast.sh"
   ]
  },
  {
   "cell_type": "code",
   "execution_count": null,
   "metadata": {},
   "outputs": [],
   "source": []
  }
 ],
 "metadata": {
  "kernelspec": {
   "display_name": "Python 3",
   "language": "python",
   "name": "python3"
  },
  "language_info": {
   "codemirror_mode": {
    "name": "ipython",
    "version": 3
   },
   "file_extension": ".py",
   "mimetype": "text/x-python",
   "name": "python",
   "nbconvert_exporter": "python",
   "pygments_lexer": "ipython3",
   "version": "3.5.2"
  }
 },
 "nbformat": 4,
 "nbformat_minor": 2
}
