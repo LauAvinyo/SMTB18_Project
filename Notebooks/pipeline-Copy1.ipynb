{
 "cells": [
  {
   "cell_type": "code",
   "execution_count": 3,
   "metadata": {},
   "outputs": [
    {
     "name": "stdout",
     "output_type": "stream",
     "text": [
      "/mnt/c/Users/laura/SMTB18/SMTB18_Project/Data/Heteromers\n",
      "/mnt/c/Users/laura/SMTB18/SMTB18_Project/Data/Homomers\n"
     ]
    }
   ],
   "source": [
    "# Move to Homomers folder\n",
    "!pwd\n",
    "%cd ../Homomers/"
   ]
  },
  {
   "cell_type": "markdown",
   "metadata": {},
   "source": [
    "# Bash pipeline"
   ]
  },
  {
   "cell_type": "code",
   "execution_count": 4,
   "metadata": {},
   "outputs": [
    {
     "name": "stdout",
     "output_type": "stream",
     "text": [
      "\u001b[0m\u001b[01;32m1a3n.pdb\u001b[0m*  \u001b[01;32m3peu.pdb\u001b[0m*           \u001b[01;32mP01588.fasta\u001b[0m*  \u001b[01;32mP29295.fasta\u001b[0m*  \u001b[01;32mprotList.tab\u001b[0m*\n",
      "\u001b[01;32m1eer.pdb\u001b[0m*  \u001b[01;32m3zhe.pdb\u001b[0m*           \u001b[01;32mP13804.blast\u001b[0m*  \u001b[01;32mP54784.blast\u001b[0m*  \u001b[01;32mQ9XV58.blast\u001b[0m*\n",
      "\u001b[01;32m1efv.pdb\u001b[0m*  \u001b[01;32m5cy3.pdb\u001b[0m*           \u001b[01;32mP13804.fasta\u001b[0m*  \u001b[01;32mP54784.fasta\u001b[0m*  \u001b[01;32mQ9XV58.fasta\u001b[0m*\n",
      "\u001b[01;32m1zhi.pdb\u001b[0m*  \u001b[01;32mblast_protList.sh\u001b[0m*  \u001b[01;32mP18956.fasta\u001b[0m*  \u001b[01;32mP68871.blast\u001b[0m*\n",
      "\u001b[01;32m2e0x.pdb\u001b[0m*  \u001b[01;32mG5ECF1.blast\u001b[0m*       \u001b[01;32mP20449.blast\u001b[0m*  \u001b[01;32mP68871.fasta\u001b[0m*\n",
      "\u001b[01;32m3a7a.pdb\u001b[0m*  \u001b[01;32mG5ECF1.fasta\u001b[0m*       \u001b[01;32mP20449.fasta\u001b[0m*  \u001b[01;32mPoA6T9.blast\u001b[0m*\n",
      "\u001b[01;32m3nvo.pdb\u001b[0m*  \u001b[01;32mP01588.blast\u001b[0m*       \u001b[01;32mP29295.blast\u001b[0m*  \u001b[01;32mPoA6T9.fasta\u001b[0m*\n"
     ]
    }
   ],
   "source": [
    "ls"
   ]
  },
  {
   "cell_type": "code",
   "execution_count": 13,
   "metadata": {},
   "outputs": [
    {
     "name": "stdout",
     "output_type": "stream",
     "text": [
      "/usr/lib/python3.5/importlib/_bootstrap.py:222: RuntimeWarning: numpy.dtype size changed, may indicate binary incompatibility. Expected 96, got 88\n",
      "  return f(*args, **kwds)\n",
      "https://files.rcsb.org/download/5cy3.pdb\n",
      "-1 / unknownhttps://files.rcsb.org/download/3peu.pdb\n",
      "-1 / unknownhttps://files.rcsb.org/download/1zhi.pdb\n",
      "-1 / unknownhttps://files.rcsb.org/download/1A3N.pdb\n",
      "-1 / unknownhttps://files.rcsb.org/download/1eer.pdb\n",
      "-1 / unknownhttps://files.rcsb.org/download/1EFV.pdb\n",
      "-1 / unknownhttps://files.rcsb.org/download/2E0X.pdb\n",
      "-1 / unknownhttps://files.rcsb.org/download/3a7a.pdb\n",
      "-1 / unknownhttps://files.rcsb.org/download/3Zhe.pdb\n",
      "-1 / unknownhttps://files.rcsb.org/download/3NVO.pdb\n",
      "-1 / unknownP29295\n",
      "https://www.uniprot.org/uniprot/P29295.fasta\n",
      "100% [..............................................................] 642 / 642P20449\n",
      "https://www.uniprot.org/uniprot/P20449.fasta\n",
      "100% [..............................................................] 630 / 630P54784\n",
      "https://www.uniprot.org/uniprot/P54784.fasta\n",
      "100% [............................................................] 1074 / 1074P68871\n",
      "https://www.uniprot.org/uniprot/P68871.fasta\n",
      "100% [..............................................................] 236 / 236P01588\n",
      "https://www.uniprot.org/uniprot/P01588.fasta\n",
      "100% [..............................................................] 274 / 274P13804\n",
      "https://www.uniprot.org/uniprot/P13804.fasta\n",
      "100% [..............................................................] 463 / 463P18956\n",
      "https://www.uniprot.org/uniprot/P18956.fasta\n",
      "100% [..............................................................] 702 / 702PoA6T9\n",
      "https://www.uniprot.org/uniprot/PoA6T9.fasta\n",
      "100% [..............................................................] 248 / 248G5ECF1\n",
      "https://www.uniprot.org/uniprot/G5ECF1.fasta\n",
      "100% [..............................................................] 673 / 673Q9XV58\n",
      "https://www.uniprot.org/uniprot/Q9XV58.fasta\n",
      "100% [..............................................................] 368 / 368"
     ]
    }
   ],
   "source": [
    "# Retreive protein sequence\n",
    "!python3 ../../Scripts/01.getSequences.py protList.tab"
   ]
  },
  {
   "cell_type": "code",
   "execution_count": 14,
   "metadata": {},
   "outputs": [
    {
     "name": "stdout",
     "output_type": "stream",
     "text": [
      "/usr/lib/python3.5/importlib/_bootstrap.py:222: RuntimeWarning: numpy.dtype size changed, may indicate binary incompatibility. Expected 96, got 88\n",
      "  return f(*args, **kwds)\n"
     ]
    }
   ],
   "source": [
    "# Write the blast code\n",
    "!python3 ../../Scripts/02.getBLAST.py protList.tab"
   ]
  },
  {
   "cell_type": "code",
   "execution_count": 5,
   "metadata": {},
   "outputs": [],
   "source": [
    "# Run blast code  \n",
    "!bash blast_protList.sh"
   ]
  },
  {
   "cell_type": "raw",
   "metadata": {},
   "source": [
    "# Retrive \n",
    "!bash ../../Scripts/concatenate.sh"
   ]
  },
  {
   "cell_type": "code",
   "execution_count": 9,
   "metadata": {},
   "outputs": [
    {
     "name": "stdout",
     "output_type": "stream",
     "text": [
      "B3GWA1\n",
      "B3GWA1.fst\n",
      "\n",
      "##### atgcfreq = 0.259344\n",
      "nseq =  82\n",
      "distance =  ktuples\n",
      "iterate =  2\n",
      "cycle =  2\n",
      "sparsepickup = 0\n",
      "nguidetree = 2\n",
      "nthread = 0\n",
      "sueff_global = 0.100000\n",
      "done.\n",
      "scoremtx = 1\n",
      "charsize=128\n",
      "Gap Penalty = -1.53, +0.00, +0.00\n",
      "\n",
      "tuplesize = 6, dorp = p\n",
      "\n",
      "\n",
      "Making a distance matrix ..\n",
      "    1 / 82\n",
      "done.\n",
      "\n",
      "Constructing a UPGMA tree ... \n",
      "   80 / 82\n",
      "done.\n",
      "\n",
      "Progressive alignment 1/2... \n",
      "STEP    81 / 81 d\n",
      "done.\n",
      "\n",
      "Making a distance matrix from msa.. \n",
      "   80 / 82\n",
      "done.\n",
      "\n",
      "Constructing a UPGMA tree ... \n",
      "   80 / 82\n",
      "done.\n",
      "\n",
      "Progressive alignment 2/2... \n",
      "STEP    81 / 81 d\n",
      "done.\n",
      "\n",
      "disttbfast (aa) Version 7.271 alg=A, model=BLOSUM62, 1.53, -0.00, -0.00, noshift, amax=0.0\n",
      "0 thread(s)\n",
      "maxdist = 2\n",
      "nthread = 0\n",
      "done.\n",
      "scoremtx = 1\n",
      "charsize=128\n",
      "dndpre (aa) Version 7.271 alg=X, model=BLOSUM62, 1.53, +0.12, -0.00, noshift, amax=0.0\n",
      "0 thread(s)\n",
      "minimumweight = 0.000500\n",
      "autosubalignment = 0.000000\n",
      "nthread = 0\n",
      "randomseed = 0\n",
      "blosum 62 / kimura 200\n",
      "poffset = 0\n",
      "niter = 2\n",
      "sueff_global = 0.100000\n",
      "done.\n",
      "scoremtx = 1\n",
      "charsize=128\n",
      "\n",
      "   80 / 82\n",
      "Segment   1/  3    1-1178\n",
      "Segment   2/  3 1178-1181\n",
      "STEP 002-008-0  identical.   \n",
      "Converged.\n",
      "\n",
      "Segment   3/  3 1181-5272\n",
      "done\n",
      "dvtditr (aa) Version 7.271 alg=A, model=BLOSUM62, 1.53, -0.00, -0.00, noshift, amax=0.0\n",
      "0 thread(s)\n",
      "\n",
      "\n",
      "Strategy:\n",
      " FFT-NS-i (Standard)\n",
      " Iterative refinement method (max. 2 iterations)\n",
      "\n",
      "If unsure which option to use, try 'mafft --auto input > output'.\n",
      "For more information, see 'mafft --help', 'mafft --man' and the mafft page.\n",
      "\n",
      "The default gap scoring scheme has been changed in version 7.110 (2013 Oct).\n",
      "It tends to insert more gaps into gap-rich regions than previous versions.\n",
      "To disable this change, add the --leavegappyregion option.\n",
      "\n",
      "O75874\n",
      "O75874.fst\n",
      "\n",
      "##### atgcfreq = 0.267207\n",
      "nseq =  495\n",
      "distance =  ktuples\n",
      "iterate =  2\n",
      "cycle =  2\n",
      "sparsepickup = 0\n",
      "nguidetree = 2\n",
      "nthread = 0\n",
      "sueff_global = 0.100000\n",
      "done.\n",
      "scoremtx = 1\n",
      "charsize=128\n",
      "Gap Penalty = -1.53, +0.00, +0.00\n",
      "\n",
      "tuplesize = 6, dorp = p\n",
      "\n",
      "\n",
      "Making a distance matrix ..\n",
      "\n",
      "There are 48 ambiguous characters.\n",
      "  401 / 495\n",
      "done.\n",
      "\n",
      "Constructing a UPGMA tree ... \n",
      "  490 / 495\n",
      "done.\n",
      "\n",
      "Progressive alignment 1/2... \n",
      "STEP   494 / 494 d\n",
      "done.\n",
      "\n",
      "Making a distance matrix from msa.. \n",
      "  490 / 495\n",
      "done.\n",
      "\n",
      "Constructing a UPGMA tree ... \n",
      "  490 / 495\n",
      "done.\n",
      "\n",
      "Progressive alignment 2/2... \n",
      "STEP   494 / 494 d\n",
      "done.\n",
      "\n",
      "disttbfast (aa) Version 7.271 alg=A, model=BLOSUM62, 1.53, -0.00, -0.00, noshift, amax=0.0\n",
      "0 thread(s)\n",
      "maxdist = 2\n",
      "nthread = 0\n",
      "done.\n",
      "scoremtx = 1\n",
      "charsize=128\n",
      "dndpre (aa) Version 7.271 alg=X, model=BLOSUM62, 1.53, +0.12, -0.00, noshift, amax=0.0\n",
      "0 thread(s)\n",
      "minimumweight = 0.000500\n",
      "autosubalignment = 0.000000\n",
      "nthread = 0\n",
      "randomseed = 0\n",
      "blosum 62 / kimura 200\n",
      "poffset = 0\n",
      "niter = 2\n",
      "sueff_global = 0.100000\n",
      "done.\n",
      "scoremtx = 1\n",
      "charsize=128\n",
      "\n",
      "  490 / 495\n",
      "Segment   1/  1    1-3773\n",
      "done\n",
      "dvtditr (aa) Version 7.271 alg=A, model=BLOSUM62, 1.53, -0.00, -0.00, noshift, amax=0.0\n",
      "0 thread(s)\n",
      "\n",
      "\n",
      "Strategy:\n",
      " FFT-NS-i (Standard)\n",
      " Iterative refinement method (max. 2 iterations)\n",
      "\n",
      "If unsure which option to use, try 'mafft --auto input > output'.\n",
      "For more information, see 'mafft --help', 'mafft --man' and the mafft page.\n",
      "\n",
      "The default gap scoring scheme has been changed in version 7.110 (2013 Oct).\n",
      "It tends to insert more gaps into gap-rich regions than previous versions.\n",
      "To disable this change, add the --leavegappyregion option.\n",
      "\n",
      "P02766\n",
      "P02766.fst\n",
      "\n",
      "##### atgcfreq = 0.273296\n",
      "nseq =  556\n",
      "distance =  ktuples\n",
      "iterate =  0\n",
      "cycle =  2\n",
      "sparsepickup = 0\n",
      "nguidetree = 2\n",
      "nthread = 0\n",
      "sueff_global = 0.100000\n",
      "done.\n",
      "scoremtx = 1\n",
      "charsize=128\n",
      "Gap Penalty = -1.53, +0.00, +0.00\n",
      "\n",
      "tuplesize = 6, dorp = p\n",
      "\n",
      "\n",
      "Making a distance matrix ..\n",
      "\n",
      "There are 18 ambiguous characters.\n",
      "  501 / 556\n",
      "done.\n",
      "\n",
      "Constructing a UPGMA tree ... \n",
      "  550 / 556\n",
      "done.\n",
      "\n",
      "Progressive alignment 1/2... \n",
      "STEP   551 / 555 d\n",
      "Reallocating..done. *alloclen = 3441\n",
      "STEP   555 / 555 d\n",
      "done.\n",
      "\n",
      "Making a distance matrix from msa.. \n",
      "  550 / 556\n",
      "done.\n",
      "\n",
      "Constructing a UPGMA tree ... \n",
      "  550 / 556\n",
      "done.\n",
      "\n",
      "Progressive alignment 2/2... \n",
      "STEP   552 / 555 f\n",
      "Reallocating..done. *alloclen = 3364\n",
      "STEP   555 / 555 d\n",
      "done.\n",
      "\n",
      "disttbfast (aa) Version 7.271 alg=A, model=BLOSUM62, 1.53, -0.00, -0.00, noshift, amax=0.0\n",
      "0 thread(s)\n",
      "\n",
      "\n",
      "Strategy:\n",
      " FFT-NS-2 (Fast but rough)\n",
      " Progressive method (guide trees were built 2 times.)\n",
      "\n",
      "If unsure which option to use, try 'mafft --auto input > output'.\n",
      "For more information, see 'mafft --help', 'mafft --man' and the mafft page.\n",
      "\n",
      "The default gap scoring scheme has been changed in version 7.110 (2013 Oct).\n",
      "It tends to insert more gaps into gap-rich regions than previous versions.\n",
      "To disable this change, add the --leavegappyregion option.\n",
      "\n",
      "P0A6C8\n",
      "P0A6C8.fst\n",
      "\n",
      "##### atgcfreq = 0.317570\n",
      "nseq =  501\n",
      "distance =  ktuples\n",
      "iterate =  0\n",
      "cycle =  2\n",
      "sparsepickup = 0\n",
      "nguidetree = 2\n",
      "nthread = 0\n",
      "sueff_global = 0.100000\n",
      "done.\n",
      "scoremtx = 1\n",
      "charsize=128\n",
      "Gap Penalty = -1.53, +0.00, +0.00\n",
      "\n",
      "tuplesize = 6, dorp = p\n",
      "\n",
      "\n",
      "Making a distance matrix ..\n",
      "\n",
      "There are 22 ambiguous characters.\n",
      "  501 / 501\n",
      "done.\n",
      "\n",
      "Constructing a UPGMA tree ... \n",
      "  490 / 501\n",
      "done.\n",
      "\n",
      "Progressive alignment 1/2... \n",
      "STEP   306 / 500 f\n",
      "Reallocating..done. *alloclen = 1627\n",
      "STEP   500 / 500 d\n",
      "done.\n",
      "\n",
      "Making a distance matrix from msa.. \n",
      "  490 / 501\n",
      "done.\n",
      "\n",
      "Constructing a UPGMA tree ... \n",
      "  490 / 501\n",
      "done.\n",
      "\n",
      "Progressive alignment 2/2... \n",
      "STEP   488 / 500 f\n",
      "Reallocating..done. *alloclen = 1616\n",
      "STEP   500 / 500 d\n",
      "done.\n",
      "\n",
      "disttbfast (aa) Version 7.271 alg=A, model=BLOSUM62, 1.53, -0.00, -0.00, noshift, amax=0.0\n",
      "0 thread(s)\n",
      "\n",
      "\n",
      "Strategy:\n",
      " FFT-NS-2 (Fast but rough)\n",
      " Progressive method (guide trees were built 2 times.)\n",
      "\n",
      "If unsure which option to use, try 'mafft --auto input > output'.\n",
      "For more information, see 'mafft --help', 'mafft --man' and the mafft page.\n",
      "\n",
      "The default gap scoring scheme has been changed in version 7.110 (2013 Oct).\n",
      "It tends to insert more gaps into gap-rich regions than previous versions.\n",
      "To disable this change, add the --leavegappyregion option.\n",
      "\n",
      "P32325\n",
      "P32325.fst\n",
      "\n",
      "##### atgcfreq = 0.239025\n",
      "nseq =  200\n",
      "distance =  ktuples\n",
      "iterate =  2\n",
      "cycle =  2\n",
      "sparsepickup = 0\n",
      "nguidetree = 2\n",
      "nthread = 0\n",
      "sueff_global = 0.100000\n",
      "done.\n",
      "scoremtx = 1\n",
      "charsize=128\n",
      "Gap Penalty = -1.53, +0.00, +0.00\n",
      "\n",
      "tuplesize = 6, dorp = p\n",
      "\n",
      "\n",
      "Making a distance matrix ..\n",
      "\n",
      "There are 73 ambiguous characters.\n",
      "  101 / 200\n",
      "done.\n",
      "\n",
      "Constructing a UPGMA tree ... \n",
      "  190 / 200\n",
      "done.\n",
      "\n",
      "Progressive alignment 1/2... \n",
      "STEP   125 / 199 f\n",
      "Reallocating..done. *alloclen = 4450\n",
      "STEP   171 / 199 f\n",
      "Reallocating..done. *alloclen = 6045\n",
      "STEP   199 / 199 d\n",
      "done.\n",
      "\n",
      "Making a distance matrix from msa.. \n",
      "  190 / 200\n",
      "done.\n",
      "\n",
      "Constructing a UPGMA tree ... \n",
      "  190 / 200\n",
      "done.\n",
      "\n",
      "Progressive alignment 2/2... \n",
      "STEP   163 / 199 d\n",
      "Reallocating..done. *alloclen = 4697\n",
      "STEP   197 / 199 d\n",
      "Reallocating..done. *alloclen = 6551\n",
      "STEP   199 / 199 d\n",
      "done.\n",
      "\n",
      "disttbfast (aa) Version 7.271 alg=A, model=BLOSUM62, 1.53, -0.00, -0.00, noshift, amax=0.0\n",
      "0 thread(s)\n",
      "maxdist = 2\n",
      "nthread = 0\n",
      "done.\n",
      "scoremtx = 1\n",
      "charsize=128\n",
      "dndpre (aa) Version 7.271 alg=X, model=BLOSUM62, 1.53, +0.12, -0.00, noshift, amax=0.0\n",
      "0 thread(s)\n",
      "minimumweight = 0.000500\n",
      "autosubalignment = 0.000000\n",
      "nthread = 0\n",
      "randomseed = 0\n",
      "blosum 62 / kimura 200\n",
      "poffset = 0\n",
      "niter = 2\n",
      "sueff_global = 0.100000\n",
      "done.\n",
      "scoremtx = 1\n",
      "charsize=128\n",
      "\n",
      "  190 / 200\n",
      "Segment   1/  1    1-4379\n",
      "done\n",
      "dvtditr (aa) Version 7.271 alg=A, model=BLOSUM62, 1.53, -0.00, -0.00, noshift, amax=0.0\n",
      "0 thread(s)\n",
      "\n",
      "\n",
      "Strategy:\n",
      " FFT-NS-i (Standard)\n",
      " Iterative refinement method (max. 2 iterations)\n",
      "\n",
      "If unsure which option to use, try 'mafft --auto input > output'.\n",
      "For more information, see 'mafft --help', 'mafft --man' and the mafft page.\n",
      "\n",
      "The default gap scoring scheme has been changed in version 7.110 (2013 Oct).\n",
      "It tends to insert more gaps into gap-rich regions than previous versions.\n",
      "To disable this change, add the --leavegappyregion option.\n",
      "\n",
      "P57743\n",
      "P57743.fst\n",
      "\n",
      "##### atgcfreq = 0.216462\n",
      "nseq =  612\n",
      "distance =  ktuples\n",
      "iterate =  0\n",
      "cycle =  2\n",
      "sparsepickup = 0\n",
      "nguidetree = 2\n",
      "nthread = 0\n",
      "sueff_global = 0.100000\n",
      "done.\n",
      "scoremtx = 1\n",
      "charsize=128\n",
      "Gap Penalty = -1.53, +0.00, +0.00\n",
      "========================================================================= \n",
      "========================================================================= \n",
      "=== \n",
      "=== Alphabet 'U' is unknown.\n",
      "=== Please check site 3 in sequence 584.\n",
      "=== \n",
      "=== To make an alignment having unusual characters (U, @, #, etc), try\n",
      "=== % mafft --anysymbol input > output\n",
      "=== \n",
      "========================================================================= \n",
      "========================================================================= \n",
      "Illegal character U\n",
      "POAFX9\n",
      "POAFX9.fst\n",
      "\n",
      "##### atgcfreq = 0.226255\n",
      "nseq =  504\n",
      "distance =  ktuples\n",
      "iterate =  0\n",
      "cycle =  2\n",
      "sparsepickup = 0\n",
      "nguidetree = 2\n",
      "nthread = 0\n",
      "sueff_global = 0.100000\n",
      "done.\n",
      "scoremtx = 1\n",
      "charsize=128\n",
      "Gap Penalty = -1.53, +0.00, +0.00\n",
      "\n",
      "tuplesize = 6, dorp = p\n",
      "\n",
      "\n",
      "Making a distance matrix ..\n",
      "\n",
      "There are 8 ambiguous characters.\n",
      "  501 / 504\n",
      "done.\n",
      "\n",
      "Constructing a UPGMA tree ... \n",
      "  500 / 504\n",
      "done.\n",
      "\n",
      "Progressive alignment 1/2... \n",
      "STEP   503 / 503 d\n",
      "done.\n",
      "\n",
      "Making a distance matrix from msa.. \n",
      "  500 / 504\n",
      "done.\n",
      "\n",
      "Constructing a UPGMA tree ... \n",
      "  500 / 504\n",
      "done.\n",
      "\n",
      "Progressive alignment 2/2... \n",
      "STEP   503 / 503 d\n",
      "done.\n",
      "\n",
      "disttbfast (aa) Version 7.271 alg=A, model=BLOSUM62, 1.53, -0.00, -0.00, noshift, amax=0.0\n",
      "0 thread(s)\n",
      "\n",
      "\n",
      "Strategy:\n",
      " FFT-NS-2 (Fast but rough)\n",
      " Progressive method (guide trees were built 2 times.)\n",
      "\n",
      "If unsure which option to use, try 'mafft --auto input > output'.\n",
      "For more information, see 'mafft --help', 'mafft --man' and the mafft page.\n",
      "\n",
      "The default gap scoring scheme has been changed in version 7.110 (2013 Oct).\n",
      "It tends to insert more gaps into gap-rich regions than previous versions.\n",
      "To disable this change, add the --leavegappyregion option.\n",
      "\n",
      "Q06592\n",
      "Q06592.fst\n",
      "\n",
      "##### atgcfreq = 0.230380\n",
      "nseq =  152\n",
      "distance =  local\n",
      "iterate =  2\n",
      "cycle =  1\n",
      "nthread = 0\n",
      "lastonce = 0\n",
      "done.\n",
      "scoremtx = 1\n",
      "charsize=128\n",
      "  150 / 152\n",
      "\n",
      "##### writing hat3\n",
      "pairlocalalign (aa) Version 7.271 alg=L, model=BLOSUM62, 2.00, -0.10, +0.10, noshift, amax=0.0\n",
      "0 thread(s)\n",
      "minimumweight = 0.000500\n",
      "nthread = 0\n",
      "blosum 62 / kimura 200\n",
      "sueff_global = 0.100000\n",
      "Loading 'hat3' ... \n",
      "done.\n",
      "done.\n",
      "scoremtx = 1\n",
      "charsize=128\n",
      "Gap Penalty = -1.53, +0.00, +0.00\n",
      "Loading 'hat2' ... done.\n",
      "Constructing a UPGMA tree ... \n",
      "  150 / 152\n",
      "done.\n",
      "\n",
      "Progressive alignment ... \n",
      "STEP   146 /151 c\n",
      "Reallocating..done. *alloclen = 3060\n",
      "STEP   151 /151 c\n",
      "done.\n",
      "tbfast (aa) Version 7.271 alg=A, model=BLOSUM62, 1.53, -0.00, -0.00, noshift, amax=0.0\n",
      "0 thread(s)\n",
      "minimumweight = 0.000500\n",
      "autosubalignment = 0.000000\n",
      "nthread = 0\n",
      "randomseed = 0\n",
      "blosum 62 / kimura 200\n",
      "poffset = 0\n",
      "niter = 2\n",
      "sueff_global = 0.100000\n",
      "Loading 'hat3' ... done.\n",
      "done.\n",
      "scoremtx = 1\n",
      "charsize=128\n",
      "\n",
      "  150 / 152\n",
      "Segment   1/  1    1-2091\n",
      "done\n",
      "dvtditr (aa) Version 7.271 alg=A, model=BLOSUM62, 1.53, -0.00, -0.00, noshift, amax=0.0\n",
      "0 thread(s)\n",
      "\n",
      "\n",
      "Strategy:\n",
      " L-INS-i (Probably most accurate, very slow)\n",
      " Iterative refinement method (<2) with LOCAL pairwise alignment information\n",
      "\n",
      "If unsure which option to use, try 'mafft --auto input > output'.\n",
      "For more information, see 'mafft --help', 'mafft --man' and the mafft page.\n",
      "\n",
      "The default gap scoring scheme has been changed in version 7.110 (2013 Oct).\n",
      "It tends to insert more gaps into gap-rich regions than previous versions.\n",
      "To disable this change, add the --leavegappyregion option.\n",
      "\n"
     ]
    }
   ],
   "source": [
    "!bash ../../Scripts/runMAFFT.sh"
   ]
  },
  {
   "cell_type": "code",
   "execution_count": 10,
   "metadata": {},
   "outputs": [
    {
     "name": "stdout",
     "output_type": "stream",
     "text": [
      "B3GWA1\n",
      "B3GWA1.alm\n",
      "O75874\n",
      "O75874.alm\n",
      "P02766\n",
      "P02766.alm\n",
      "P0A6C8\n",
      "P0A6C8.alm\n",
      "P32325\n",
      "P32325.alm\n",
      "P57743\n",
      "P57743.alm\n",
      "Traceback (most recent call last):\n",
      "  File \"../../Scripts/04.cleanAligment.py\", line 13, in <module>\n",
      "    alig = readAlig(inputFile, 'fasta')\n",
      "  File \"/mnt/c/Users/laura/SMTB18/SMTB18_Project/Scripts/functions.py\", line 61, in readAlig\n",
      "    alignment = AlignIO.read(open(file), form)\n",
      "  File \"/usr/local/lib/python3.5/dist-packages/Bio/AlignIO/__init__.py\", line 439, in read\n",
      "    raise ValueError(\"No records found in handle\")\n",
      "ValueError: No records found in handle\n",
      "POAFX9\n",
      "POAFX9.alm\n",
      "Traceback (most recent call last):\n",
      "  File \"../../Scripts/04.cleanAligment.py\", line 15, in <module>\n",
      "    toDel = findGaps(alig, code)\n",
      "  File \"/mnt/c/Users/laura/SMTB18/SMTB18_Project/Scripts/functions.py\", line 24, in findGaps\n",
      "    seq = alig[name]\n",
      "KeyError: 'POAFX9'\n",
      "Q06592\n",
      "Q06592.alm\n"
     ]
    }
   ],
   "source": [
    "!bash ../../Scripts/runClean.sh "
   ]
  },
  {
   "cell_type": "code",
   "execution_count": 14,
   "metadata": {},
   "outputs": [
    {
     "name": "stdout",
     "output_type": "stream",
     "text": [
      "B3GWA1\n",
      "B3GWA1.aln\n",
      "O75874\n",
      "O75874.aln\n",
      "P02766\n",
      "P02766.aln\n",
      "P0A6C8\n",
      "P0A6C8.aln\n",
      "P32325\n",
      "P32325.aln\n",
      "Q06592\n",
      "Q06592.aln\n"
     ]
    }
   ],
   "source": [
    "!bash ../../Scripts/runShannons.sh"
   ]
  },
  {
   "cell_type": "code",
   "execution_count": 25,
   "metadata": {},
   "outputs": [
    {
     "name": "stdout",
     "output_type": "stream",
     "text": [
      "B3GWA1\n",
      "B3GWA1.aln\n",
      "O75874\n",
      "O75874.aln\n",
      "P02766\n",
      "P02766.aln\n",
      "P0A6C8\n",
      "P0A6C8.aln\n",
      "P32325\n",
      "P32325.aln\n",
      "Q06592\n",
      "Q06592.aln\n"
     ]
    }
   ],
   "source": [
    "!bash ../../Scripts/runRate.sh"
   ]
  },
  {
   "cell_type": "markdown",
   "metadata": {},
   "source": [
    "# Analysis of results"
   ]
  },
  {
   "cell_type": "code",
   "execution_count": 38,
   "metadata": {},
   "outputs": [
    {
     "name": "stderr",
     "output_type": "stream",
     "text": [
      "/usr/lib/python3.5/importlib/_bootstrap.py:222: RuntimeWarning: numpy.dtype size changed, may indicate binary incompatibility. Expected 96, got 88\n",
      "  return f(*args, **kwds)\n",
      "/usr/lib/python3.5/importlib/_bootstrap.py:222: RuntimeWarning: numpy.dtype size changed, may indicate binary incompatibility. Expected 96, got 88\n",
      "  return f(*args, **kwds)\n",
      "/usr/lib/python3.5/importlib/_bootstrap.py:222: RuntimeWarning: numpy.dtype size changed, may indicate binary incompatibility. Expected 96, got 88\n",
      "  return f(*args, **kwds)\n",
      "/usr/lib/python3.5/importlib/_bootstrap.py:222: RuntimeWarning: numpy.dtype size changed, may indicate binary incompatibility. Expected 96, got 88\n",
      "  return f(*args, **kwds)\n"
     ]
    }
   ],
   "source": [
    "import matplotlib.pyplot as plt\n",
    "import pandas as pd\n",
    "from sklearn import datasets, linear_model\n",
    "from sklearn.metrics import mean_squared_error, r2_score"
   ]
  },
  {
   "cell_type": "code",
   "execution_count": 93,
   "metadata": {},
   "outputs": [
    {
     "data": {
      "image/png": "[encoded data removed]",
      "text/plain": [
       "<Figure size 432x288 with 1 Axes>"
      ]
     },
     "metadata": {},
     "output_type": "display_data"
    },
    {
     "data": {
      "image/png": "[encoded data removed]",
      "text/plain": [
       "<Figure size 432x288 with 1 Axes>"
      ]
     },
     "metadata": {},
     "output_type": "display_data"
    },
    {
     "data": {
      "image/png": "[encoded data removed]",
      "text/plain": [
       "<Figure size 432x288 with 1 Axes>"
      ]
     },
     "metadata": {},
     "output_type": "display_data"
    },
    {
     "data": {
      "image/png": "[encoded data removed]",
      "text/plain": [
       "<Figure size 432x288 with 1 Axes>"
      ]
     },
     "metadata": {},
     "output_type": "display_data"
    },
    {
     "data": {
      "image/png": "[encoded data removed]",
      "text/plain": [
       "<Figure size 432x288 with 1 Axes>"
      ]
     },
     "metadata": {},
     "output_type": "display_data"
    },
    {
     "data": {
      "image/png": "[encoded data removed]",
      "text/plain": [
       "<Figure size 432x288 with 1 Axes>"
      ]
     },
     "metadata": {},
     "output_type": "display_data"
    }
   ],
   "source": [
    "code = 'B3GWA1'\n",
    "\n",
    "for code in ('B3GWA1', 'O75874', 'P02766', 'P0A6C8', 'P32325', 'Q06592'):\n",
    "    shan = pd.read_table(code+'.shannon')\n",
    "    rate = pd.read_table(code+'.rate')\n",
    "    # X norm\n",
    "    x = rate[\"norm\"]\n",
    "    # Y shann\n",
    "    y = shan[\"entropy\"]\n",
    "    slope, intercept, r_value, p_value, std_err = stats.linregress(x,y)\n",
    "    lx = np.arange(start=min(x), stop=max(x), step=len(x)/1000)\n",
    "    ly = tuple(slope*i + intercept for i in lx)\n",
    "    plt.scatter(x,y)\n",
    "    plt.plot(lx, ly, color='red')\n",
    "    plt.title(code)\n",
    "    plt.suptitle('slope=%.2f r=%.2f p=%.2f'%(slope, r_value, p_value))\n",
    "    plt.xlabel('Norm Ratio')\n",
    "    plt.ylabel(\"Shannon's entropy\")\n",
    "    plt.show()"
   ]
  },
  {
   "cell_type": "code",
   "execution_count": 79,
   "metadata": {},
   "outputs": [
    {
     "data": {
      "text/plain": [
       "array([-1.   , -0.844, -0.688, -0.532, -0.376, -0.22 , -0.064,  0.092,\n",
       "        0.248,  0.404,  0.56 ,  0.716,  0.872,  1.028,  1.184,  1.34 ,\n",
       "        1.496,  1.652,  1.808,  1.964,  2.12 ,  2.276,  2.432,  2.588,\n",
       "        2.744,  2.9  ,  3.056,  3.212,  3.368,  3.524,  3.68 ,  3.836,\n",
       "        3.992,  4.148,  4.304,  4.46 ,  4.616,  4.772,  4.928,  5.084,\n",
       "        5.24 ,  5.396,  5.552,  5.708,  5.864])"
      ]
     },
     "execution_count": 79,
     "metadata": {},
     "output_type": "execute_result"
    }
   ],
   "source": [
    "lx"
   ]
  },
  {
   "cell_type": "code",
   "execution_count": 75,
   "metadata": {},
   "outputs": [
    {
     "data": {
      "text/html": [
       "<div>\n",
       "<style scoped>\n",
       "    .dataframe tbody tr th:only-of-type {\n",
       "        vertical-align: middle;\n",
       "    }\n",
       "\n",
       "    .dataframe tbody tr th {\n",
       "        vertical-align: top;\n",
       "    }\n",
       "\n",
       "    .dataframe thead th {\n",
       "        text-align: right;\n",
       "    }\n",
       "</style>\n",
       "<table border=\"1\" class=\"dataframe\">\n",
       "  <thead>\n",
       "    <tr style=\"text-align: right;\">\n",
       "      <th></th>\n",
       "      <th>pos</th>\n",
       "      <th>entropy</th>\n",
       "    </tr>\n",
       "  </thead>\n",
       "  <tbody>\n",
       "    <tr>\n",
       "      <th>0</th>\n",
       "      <td>1</td>\n",
       "      <td>0.660228</td>\n",
       "    </tr>\n",
       "    <tr>\n",
       "      <th>1</th>\n",
       "      <td>2</td>\n",
       "      <td>1.275294</td>\n",
       "    </tr>\n",
       "    <tr>\n",
       "      <th>2</th>\n",
       "      <td>3</td>\n",
       "      <td>1.278372</td>\n",
       "    </tr>\n",
       "    <tr>\n",
       "      <th>3</th>\n",
       "      <td>4</td>\n",
       "      <td>1.578962</td>\n",
       "    </tr>\n",
       "    <tr>\n",
       "      <th>4</th>\n",
       "      <td>5</td>\n",
       "      <td>1.559164</td>\n",
       "    </tr>\n",
       "  </tbody>\n",
       "</table>\n",
       "</div>"
      ],
      "text/plain": [
       "   pos   entropy\n",
       "0    1  0.660228\n",
       "1    2  1.275294\n",
       "2    3  1.278372\n",
       "3    4  1.578962\n",
       "4    5  1.559164"
      ]
     },
     "execution_count": 75,
     "metadata": {},
     "output_type": "execute_result"
    }
   ],
   "source": [
    "shan = pd.read_table(code+'.shannon')\n",
    "shan.head()"
   ]
  },
  {
   "cell_type": "code",
   "execution_count": 76,
   "metadata": {},
   "outputs": [
    {
     "data": {
      "text/html": [
       "<div>\n",
       "<style scoped>\n",
       "    .dataframe tbody tr th:only-of-type {\n",
       "        vertical-align: middle;\n",
       "    }\n",
       "\n",
       "    .dataframe tbody tr th {\n",
       "        vertical-align: top;\n",
       "    }\n",
       "\n",
       "    .dataframe thead th {\n",
       "        text-align: right;\n",
       "    }\n",
       "</style>\n",
       "<table border=\"1\" class=\"dataframe\">\n",
       "  <thead>\n",
       "    <tr style=\"text-align: right;\">\n",
       "      <th></th>\n",
       "      <th>cons</th>\n",
       "      <th>rad</th>\n",
       "      <th>ratio</th>\n",
       "      <th>norm</th>\n",
       "    </tr>\n",
       "  </thead>\n",
       "  <tbody>\n",
       "    <tr>\n",
       "      <th>0</th>\n",
       "      <td>1431</td>\n",
       "      <td>0</td>\n",
       "      <td>0.000000</td>\n",
       "      <td>-1.000000</td>\n",
       "    </tr>\n",
       "    <tr>\n",
       "      <th>1</th>\n",
       "      <td>1606</td>\n",
       "      <td>285</td>\n",
       "      <td>5.635088</td>\n",
       "      <td>-0.453589</td>\n",
       "    </tr>\n",
       "    <tr>\n",
       "      <th>2</th>\n",
       "      <td>2080</td>\n",
       "      <td>65</td>\n",
       "      <td>32.000000</td>\n",
       "      <td>2.102905</td>\n",
       "    </tr>\n",
       "    <tr>\n",
       "      <th>3</th>\n",
       "      <td>1332</td>\n",
       "      <td>1443</td>\n",
       "      <td>0.923077</td>\n",
       "      <td>-0.910493</td>\n",
       "    </tr>\n",
       "    <tr>\n",
       "      <th>4</th>\n",
       "      <td>1575</td>\n",
       "      <td>1275</td>\n",
       "      <td>1.235294</td>\n",
       "      <td>-0.880219</td>\n",
       "    </tr>\n",
       "  </tbody>\n",
       "</table>\n",
       "</div>"
      ],
      "text/plain": [
       "   cons   rad      ratio      norm\n",
       "0  1431     0   0.000000 -1.000000\n",
       "1  1606   285   5.635088 -0.453589\n",
       "2  2080    65  32.000000  2.102905\n",
       "3  1332  1443   0.923077 -0.910493\n",
       "4  1575  1275   1.235294 -0.880219"
      ]
     },
     "execution_count": 76,
     "metadata": {},
     "output_type": "execute_result"
    }
   ],
   "source": [
    "rate = pd.read_table(code+'.rate')\n",
    "rate.head()"
   ]
  },
  {
   "cell_type": "code",
   "execution_count": 77,
   "metadata": {},
   "outputs": [
    {
     "data": {
      "text/plain": [
       "<matplotlib.collections.PathCollection at 0x7f8bba2aa470>"
      ]
     },
     "execution_count": 77,
     "metadata": {},
     "output_type": "execute_result"
    },
    {
     "data": {
      "image/png": "[encoded data removed]",
      "text/plain": [
       "<Figure size 432x288 with 1 Axes>"
      ]
     },
     "metadata": {},
     "output_type": "display_data"
    }
   ],
   "source": [
    "# X norm\n",
    "x = rate[\"ratio\"]\n",
    "# Y shann\n",
    "y = shan[\"entropy\"]\n",
    "plt.scatter(x,y)"
   ]
  },
  {
   "cell_type": "code",
   "execution_count": 67,
   "metadata": {},
   "outputs": [
    {
     "data": {
      "text/plain": [
       "(-0.012405513810027607, 2.3329893338469653e-06)"
      ]
     },
     "execution_count": 67,
     "metadata": {},
     "output_type": "execute_result"
    }
   ],
   "source": [
    "d = {'pos': shan['pos'], 'norm': rate['norm'], 'entropy': shan['entropy']}\n",
    "df = pd.DataFrame(data=d)\n",
    "slope, intercept, r_value, p_value, std_err = stats.linregress(x,y)\n",
    "slope, p_value"
   ]
  },
  {
   "cell_type": "code",
   "execution_count": 64,
   "metadata": {},
   "outputs": [],
   "source": [
    "import numpy as np\n",
    "from scipy import stats"
   ]
  },
  {
   "cell_type": "code",
   "execution_count": 60,
   "metadata": {},
   "outputs": [
    {
     "data": {
      "text/html": [
       "<div>\n",
       "<style scoped>\n",
       "    .dataframe tbody tr th:only-of-type {\n",
       "        vertical-align: middle;\n",
       "    }\n",
       "\n",
       "    .dataframe tbody tr th {\n",
       "        vertical-align: top;\n",
       "    }\n",
       "\n",
       "    .dataframe thead th {\n",
       "        text-align: right;\n",
       "    }\n",
       "</style>\n",
       "<table border=\"1\" class=\"dataframe\">\n",
       "  <thead>\n",
       "    <tr style=\"text-align: right;\">\n",
       "      <th></th>\n",
       "      <th>entropy</th>\n",
       "      <th>norm</th>\n",
       "      <th>pos</th>\n",
       "    </tr>\n",
       "  </thead>\n",
       "  <tbody>\n",
       "    <tr>\n",
       "      <th>0</th>\n",
       "      <td>0.660228</td>\n",
       "      <td>-1.000000</td>\n",
       "      <td>1</td>\n",
       "    </tr>\n",
       "    <tr>\n",
       "      <th>1</th>\n",
       "      <td>1.275294</td>\n",
       "      <td>-0.453589</td>\n",
       "      <td>2</td>\n",
       "    </tr>\n",
       "    <tr>\n",
       "      <th>2</th>\n",
       "      <td>1.278372</td>\n",
       "      <td>2.102905</td>\n",
       "      <td>3</td>\n",
       "    </tr>\n",
       "    <tr>\n",
       "      <th>3</th>\n",
       "      <td>1.578962</td>\n",
       "      <td>-0.910493</td>\n",
       "      <td>4</td>\n",
       "    </tr>\n",
       "    <tr>\n",
       "      <th>4</th>\n",
       "      <td>1.559164</td>\n",
       "      <td>-0.880219</td>\n",
       "      <td>5</td>\n",
       "    </tr>\n",
       "  </tbody>\n",
       "</table>\n",
       "</div>"
      ],
      "text/plain": [
       "    entropy      norm  pos\n",
       "0  0.660228 -1.000000    1\n",
       "1  1.275294 -0.453589    2\n",
       "2  1.278372  2.102905    3\n",
       "3  1.578962 -0.910493    4\n",
       "4  1.559164 -0.880219    5"
      ]
     },
     "execution_count": 60,
     "metadata": {},
     "output_type": "execute_result"
    }
   ],
   "source": [
    "df.head()"
   ]
  },
  {
   "cell_type": "code",
   "execution_count": 55,
   "metadata": {},
   "outputs": [
    {
     "data": {
      "text/plain": [
       "<matplotlib.collections.PathCollection at 0x7f8bba6422b0>"
      ]
     },
     "execution_count": 55,
     "metadata": {},
     "output_type": "execute_result"
    },
    {
     "data": {
      "image/png": "[encoded data removed]",
      "text/plain": [
       "<Figure size 432x288 with 1 Axes>"
      ]
     },
     "metadata": {},
     "output_type": "display_data"
    }
   ],
   "source": [
    "plt.scatter(df['norm'], df['entropy'])"
   ]
  },
  {
   "cell_type": "code",
   "execution_count": null,
   "metadata": {},
   "outputs": [],
   "source": []
  }
 ],
 "metadata": {
  "kernelspec": {
   "display_name": "Python 3",
   "language": "python",
   "name": "python3"
  },
  "language_info": {
   "codemirror_mode": {
    "name": "ipython",
    "version": 3
   },
   "file_extension": ".py",
   "mimetype": "text/x-python",
   "name": "python",
   "nbconvert_exporter": "python",
   "pygments_lexer": "ipython3",
   "version": "3.5.2"
  }
 },
 "nbformat": 4,
 "nbformat_minor": 2
}
