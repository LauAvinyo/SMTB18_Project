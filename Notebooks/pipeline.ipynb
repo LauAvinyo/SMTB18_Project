{
 "cells": [
  {
   "cell_type": "code",
   "execution_count": 3,
   "metadata": {},
   "outputs": [
    {
     "name": "stdout",
     "output_type": "stream",
     "text": [
      "/mnt/c/Users/laura/SMTB18/SMTB18_Project/Notebooks\n",
      "/mnt/c/Users/laura/SMTB18/SMTB18_Project/Data/Heteromers\n"
     ]
    }
   ],
   "source": [
    "# Move to Homomers folder\n",
    "!pwd\n",
    "%cd ../Data/Heteromers"
   ]
  },
  {
   "cell_type": "markdown",
   "metadata": {},
   "source": [
    "# Bash pipeline"
   ]
  },
  {
   "cell_type": "code",
   "execution_count": 4,
   "metadata": {},
   "outputs": [
    {
     "name": "stdout",
     "output_type": "stream",
     "text": [
      "\u001b[0m\u001b[01;32m1a3n.pdb\u001b[0m*  \u001b[01;32m3peu.pdb\u001b[0m*           \u001b[01;32mP01588.fasta\u001b[0m*  \u001b[01;32mP29295.fasta\u001b[0m*  \u001b[01;32mprotList.tab\u001b[0m*\n",
      "\u001b[01;32m1eer.pdb\u001b[0m*  \u001b[01;32m3zhe.pdb\u001b[0m*           \u001b[01;32mP13804.blast\u001b[0m*  \u001b[01;32mP54784.blast\u001b[0m*  \u001b[01;32mQ9XV58.blast\u001b[0m*\n",
      "\u001b[01;32m1efv.pdb\u001b[0m*  \u001b[01;32m5cy3.pdb\u001b[0m*           \u001b[01;32mP13804.fasta\u001b[0m*  \u001b[01;32mP54784.fasta\u001b[0m*  \u001b[01;32mQ9XV58.fasta\u001b[0m*\n",
      "\u001b[01;32m1zhi.pdb\u001b[0m*  \u001b[01;32mblast_protList.sh\u001b[0m*  \u001b[01;32mP18956.fasta\u001b[0m*  \u001b[01;32mP68871.blast\u001b[0m*\n",
      "\u001b[01;32m2e0x.pdb\u001b[0m*  \u001b[01;32mG5ECF1.blast\u001b[0m*       \u001b[01;32mP20449.blast\u001b[0m*  \u001b[01;32mP68871.fasta\u001b[0m*\n",
      "\u001b[01;32m3a7a.pdb\u001b[0m*  \u001b[01;32mG5ECF1.fasta\u001b[0m*       \u001b[01;32mP20449.fasta\u001b[0m*  \u001b[01;32mPoA6T9.blast\u001b[0m*\n",
      "\u001b[01;32m3nvo.pdb\u001b[0m*  \u001b[01;32mP01588.blast\u001b[0m*       \u001b[01;32mP29295.blast\u001b[0m*  \u001b[01;32mPoA6T9.fasta\u001b[0m*\n"
     ]
    }
   ],
   "source": [
    "ls"
   ]
  },
  {
   "cell_type": "code",
   "execution_count": 13,
   "metadata": {},
   "outputs": [
    {
     "name": "stdout",
     "output_type": "stream",
     "text": [
      "/usr/lib/python3.5/importlib/_bootstrap.py:222: RuntimeWarning: numpy.dtype size changed, may indicate binary incompatibility. Expected 96, got 88\n",
      "  return f(*args, **kwds)\n",
      "https://files.rcsb.org/download/5cy3.pdb\n",
      "-1 / unknownhttps://files.rcsb.org/download/3peu.pdb\n",
      "-1 / unknownhttps://files.rcsb.org/download/1zhi.pdb\n",
      "-1 / unknownhttps://files.rcsb.org/download/1A3N.pdb\n",
      "-1 / unknownhttps://files.rcsb.org/download/1eer.pdb\n",
      "-1 / unknownhttps://files.rcsb.org/download/1EFV.pdb\n",
      "-1 / unknownhttps://files.rcsb.org/download/2E0X.pdb\n",
      "-1 / unknownhttps://files.rcsb.org/download/3a7a.pdb\n",
      "-1 / unknownhttps://files.rcsb.org/download/3Zhe.pdb\n",
      "-1 / unknownhttps://files.rcsb.org/download/3NVO.pdb\n",
      "-1 / unknownP29295\n",
      "https://www.uniprot.org/uniprot/P29295.fasta\n",
      "100% [..............................................................] 642 / 642P20449\n",
      "https://www.uniprot.org/uniprot/P20449.fasta\n",
      "100% [..............................................................] 630 / 630P54784\n",
      "https://www.uniprot.org/uniprot/P54784.fasta\n",
      "100% [............................................................] 1074 / 1074P68871\n",
      "https://www.uniprot.org/uniprot/P68871.fasta\n",
      "100% [..............................................................] 236 / 236P01588\n",
      "https://www.uniprot.org/uniprot/P01588.fasta\n",
      "100% [..............................................................] 274 / 274P13804\n",
      "https://www.uniprot.org/uniprot/P13804.fasta\n",
      "100% [..............................................................] 463 / 463P18956\n",
      "https://www.uniprot.org/uniprot/P18956.fasta\n",
      "100% [..............................................................] 702 / 702PoA6T9\n",
      "https://www.uniprot.org/uniprot/PoA6T9.fasta\n",
      "100% [..............................................................] 248 / 248G5ECF1\n",
      "https://www.uniprot.org/uniprot/G5ECF1.fasta\n",
      "100% [..............................................................] 673 / 673Q9XV58\n",
      "https://www.uniprot.org/uniprot/Q9XV58.fasta\n",
      "100% [..............................................................] 368 / 368"
     ]
    }
   ],
   "source": [
    "# Retreive protein sequence\n",
    "!python3 ../../Scripts/01.getSequences.py protList.tab"
   ]
  },
  {
   "cell_type": "code",
   "execution_count": 14,
   "metadata": {},
   "outputs": [
    {
     "name": "stdout",
     "output_type": "stream",
     "text": [
      "/usr/lib/python3.5/importlib/_bootstrap.py:222: RuntimeWarning: numpy.dtype size changed, may indicate binary incompatibility. Expected 96, got 88\n",
      "  return f(*args, **kwds)\n"
     ]
    }
   ],
   "source": [
    "# Write the blast code\n",
    "!python3 ../../Scripts/02.getBLAST.py protList.tab"
   ]
  },
  {
   "cell_type": "code",
   "execution_count": null,
   "metadata": {},
   "outputs": [],
   "source": [
    "# Run blast code  \n",
    "!bash blast_protList.sh"
   ]
  },
  {
   "cell_type": "markdown",
   "metadata": {},
   "source": [
    "# Retrive \n",
    "!bash ../../Scripts/concatenate.sh"
   ]
  },
  {
   "cell_type": "code",
   "execution_count": null,
   "metadata": {},
   "outputs": [],
   "source": [
    "# Clean alignment\n",
    "%%python3 ../../Scripts/04.cleanAligment.py protList.tab"
   ]
  },
  {
   "cell_type": "code",
   "execution_count": null,
   "metadata": {},
   "outputs": [],
   "source": [
    "# Get Shannons Entropy\n",
    "%%python3 ../../Scripts/05.getShannons.py protList.tab"
   ]
  },
  {
   "cell_type": "code",
   "execution_count": 7,
   "metadata": {},
   "outputs": [],
   "source": [
    "# Fucking KA/KC\n",
    "%%python3 ../../Scripts/06.getRate.py protList.tab"
   ]
  },
  {
   "cell_type": "code",
   "execution_count": null,
   "metadata": {},
   "outputs": [],
   "source": [
    "# Get surface core\n",
    "%%python3 ../../Scripts/07.getSurfaceCore.py protList.tab"
   ]
  },
  {
   "cell_type": "code",
   "execution_count": null,
   "metadata": {},
   "outputs": [],
   "source": [
    "# Get interfaces \n",
    "%%python3 ../../Scripts/08.getInterfaces.py protList.tab"
   ]
  },
  {
   "cell_type": "code",
   "execution_count": null,
   "metadata": {},
   "outputs": [],
   "source": []
  },
  {
   "cell_type": "markdown",
   "metadata": {},
   "source": [
    "# Analysis of results"
   ]
  },
  {
   "cell_type": "code",
   "execution_count": null,
   "metadata": {},
   "outputs": [],
   "source": []
  }
 ],
 "metadata": {
  "kernelspec": {
   "display_name": "Python 3",
   "language": "python",
   "name": "python3"
  },
  "language_info": {
   "codemirror_mode": {
    "name": "ipython",
    "version": 3
   },
   "file_extension": ".py",
   "mimetype": "text/x-python",
   "name": "python",
   "nbconvert_exporter": "python",
   "pygments_lexer": "ipython3",
   "version": "3.5.2"
  }
 },
 "nbformat": 4,
 "nbformat_minor": 2
}
