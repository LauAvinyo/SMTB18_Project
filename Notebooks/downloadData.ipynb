{
 "cells": [
  {
   "cell_type": "code",
   "execution_count": 3,
   "metadata": {},
   "outputs": [
    {
     "name": "stderr",
     "output_type": "stream",
     "text": [
      "/usr/lib/python3.5/importlib/_bootstrap.py:222: RuntimeWarning: numpy.dtype size changed, may indicate binary incompatibility. Expected 96, got 88\n",
      "  return f(*args, **kwds)\n",
      "/usr/lib/python3.5/importlib/_bootstrap.py:222: RuntimeWarning: numpy.dtype size changed, may indicate binary incompatibility. Expected 96, got 88\n",
      "  return f(*args, **kwds)\n"
     ]
    }
   ],
   "source": [
    "import pandas as pd\n",
    "import wget "
   ]
  },
  {
   "cell_type": "code",
   "execution_count": 28,
   "metadata": {},
   "outputs": [],
   "source": [
    "rm *.pdb *.fasta"
   ]
  },
  {
   "cell_type": "markdown",
   "metadata": {},
   "source": [
    "# Homomers"
   ]
  },
  {
   "cell_type": "code",
   "execution_count": 4,
   "metadata": {},
   "outputs": [
    {
     "data": {
      "text/html": [
       "<div>\n",
       "<style scoped>\n",
       "    .dataframe tbody tr th:only-of-type {\n",
       "        vertical-align: middle;\n",
       "    }\n",
       "\n",
       "    .dataframe tbody tr th {\n",
       "        vertical-align: top;\n",
       "    }\n",
       "\n",
       "    .dataframe thead th {\n",
       "        text-align: right;\n",
       "    }\n",
       "</style>\n",
       "<table border=\"1\" class=\"dataframe\">\n",
       "  <thead>\n",
       "    <tr style=\"text-align: right;\">\n",
       "      <th></th>\n",
       "      <th>Function</th>\n",
       "      <th>UniID</th>\n",
       "      <th>Species</th>\n",
       "      <th>PDB</th>\n",
       "    </tr>\n",
       "  </thead>\n",
       "  <tbody>\n",
       "    <tr>\n",
       "      <th>0</th>\n",
       "      <td>Transferase</td>\n",
       "      <td>Q06592</td>\n",
       "      <td>Scer</td>\n",
       "      <td>1qso</td>\n",
       "    </tr>\n",
       "    <tr>\n",
       "      <th>1</th>\n",
       "      <td>CellCycle</td>\n",
       "      <td>P32325</td>\n",
       "      <td>Scer</td>\n",
       "      <td>3qbz</td>\n",
       "    </tr>\n",
       "    <tr>\n",
       "      <th>2</th>\n",
       "      <td>RNAbinding</td>\n",
       "      <td>P57743</td>\n",
       "      <td>Scer</td>\n",
       "      <td>4n0a</td>\n",
       "    </tr>\n",
       "    <tr>\n",
       "      <th>3</th>\n",
       "      <td>Oxidoreductase</td>\n",
       "      <td>O75874</td>\n",
       "      <td>Hsap</td>\n",
       "      <td>4kzo</td>\n",
       "    </tr>\n",
       "    <tr>\n",
       "      <th>4</th>\n",
       "      <td>Transport</td>\n",
       "      <td>P02766</td>\n",
       "      <td>Hsap</td>\n",
       "      <td>4n85</td>\n",
       "    </tr>\n",
       "  </tbody>\n",
       "</table>\n",
       "</div>"
      ],
      "text/plain": [
       "         Function   UniID Species   PDB\n",
       "0     Transferase  Q06592    Scer  1qso\n",
       "1       CellCycle  P32325    Scer  3qbz\n",
       "2      RNAbinding  P57743    Scer  4n0a\n",
       "3  Oxidoreductase  O75874    Hsap  4kzo\n",
       "4       Transport  P02766    Hsap  4n85"
      ]
     },
     "execution_count": 4,
     "metadata": {},
     "output_type": "execute_result"
    }
   ],
   "source": [
    "data = pd.read_table('../Data/Homomers/protList.tab')\n",
    "data.head()"
   ]
  },
  {
   "cell_type": "markdown",
   "metadata": {},
   "source": [
    "## Protein sequences from uniprot"
   ]
  },
  {
   "cell_type": "code",
   "execution_count": 5,
   "metadata": {},
   "outputs": [
    {
     "name": "stdout",
     "output_type": "stream",
     "text": [
      "Q06592\n",
      "https://www.uniprot.org/uniprot/Q06592.fasta\n",
      "P32325\n",
      "https://www.uniprot.org/uniprot/P32325.fasta\n",
      "P57743\n",
      "https://www.uniprot.org/uniprot/P57743.fasta\n",
      "O75874\n",
      "https://www.uniprot.org/uniprot/O75874.fasta\n",
      "P02766\n",
      "https://www.uniprot.org/uniprot/P02766.fasta\n",
      "P0A6C8\n",
      "https://www.uniprot.org/uniprot/P0A6C8.fasta\n",
      "POAFX9\n",
      "https://www.uniprot.org/uniprot/POAFX9.fasta\n",
      "Q19905\n",
      "https://www.uniprot.org/uniprot/Q19905.fasta\n",
      "B3GWA1\n",
      "https://www.uniprot.org/uniprot/B3GWA1.fasta\n"
     ]
    }
   ],
   "source": [
    "for code in data['UniID']:\n",
    "    print(code)\n",
    "    url = \"https://www.uniprot.org/uniprot/\"+code+\".fasta\"\n",
    "    print(url)\n",
    "    wget.download(url)"
   ]
  },
  {
   "cell_type": "code",
   "execution_count": 6,
   "metadata": {},
   "outputs": [],
   "source": [
    "mv *.fasta ../Data/Homomers/"
   ]
  },
  {
   "cell_type": "markdown",
   "metadata": {},
   "source": [
    "## PDB files from PDB"
   ]
  },
  {
   "cell_type": "code",
   "execution_count": 32,
   "metadata": {},
   "outputs": [
    {
     "name": "stdout",
     "output_type": "stream",
     "text": [
      "1qso\n",
      "https://files.rcsb.org/download/1qso.pdb\n",
      "3qbz\n",
      "https://files.rcsb.org/download/3qbz.pdb\n",
      "4n0a\n",
      "https://files.rcsb.org/download/4n0a.pdb\n",
      "4kzo\n",
      "https://files.rcsb.org/download/4kzo.pdb\n",
      "4n85\n",
      "https://files.rcsb.org/download/4n85.pdb\n",
      "2x2w\n",
      "https://files.rcsb.org/download/2x2w.pdb\n",
      "2v43\n",
      "https://files.rcsb.org/download/2v43.pdb\n",
      "2o3J\n",
      "https://files.rcsb.org/download/2o3J.pdb\n",
      "5ca5\n",
      "https://files.rcsb.org/download/5ca5.pdb\n"
     ]
    }
   ],
   "source": [
    "for code in data['PDB']:\n",
    "    print(code)\n",
    "    url = \"https://files.rcsb.org/download/\"+code+\".pdb\"\n",
    "    print(url)\n",
    "    wget.download(url)"
   ]
  },
  {
   "cell_type": "code",
   "execution_count": 33,
   "metadata": {},
   "outputs": [],
   "source": [
    "mv *.pdb ../Data/Homomers/"
   ]
  },
  {
   "cell_type": "markdown",
   "metadata": {},
   "source": [
    "# Heteromers"
   ]
  },
  {
   "cell_type": "code",
   "execution_count": 41,
   "metadata": {},
   "outputs": [
    {
     "data": {
      "text/html": [
       "<div>\n",
       "<style scoped>\n",
       "    .dataframe tbody tr th:only-of-type {\n",
       "        vertical-align: middle;\n",
       "    }\n",
       "\n",
       "    .dataframe tbody tr th {\n",
       "        vertical-align: top;\n",
       "    }\n",
       "\n",
       "    .dataframe thead th {\n",
       "        text-align: right;\n",
       "    }\n",
       "</style>\n",
       "<table border=\"1\" class=\"dataframe\">\n",
       "  <thead>\n",
       "    <tr style=\"text-align: right;\">\n",
       "      <th></th>\n",
       "      <th>Function</th>\n",
       "      <th>UniID</th>\n",
       "      <th>Species</th>\n",
       "      <th>PDB</th>\n",
       "    </tr>\n",
       "  </thead>\n",
       "  <tbody>\n",
       "    <tr>\n",
       "      <th>0</th>\n",
       "      <td>Transferase</td>\n",
       "      <td>P29295</td>\n",
       "      <td>Scer</td>\n",
       "      <td>5cy3</td>\n",
       "    </tr>\n",
       "    <tr>\n",
       "      <th>1</th>\n",
       "      <td>Hydrolase</td>\n",
       "      <td>P20449</td>\n",
       "      <td>Scer</td>\n",
       "      <td>3peu</td>\n",
       "    </tr>\n",
       "    <tr>\n",
       "      <th>2</th>\n",
       "      <td>Transcription</td>\n",
       "      <td>P54784</td>\n",
       "      <td>Scer</td>\n",
       "      <td>1zhi</td>\n",
       "    </tr>\n",
       "    <tr>\n",
       "      <th>3</th>\n",
       "      <td>Hemoglobine</td>\n",
       "      <td>P68871</td>\n",
       "      <td>Hsap</td>\n",
       "      <td>1A3N</td>\n",
       "    </tr>\n",
       "    <tr>\n",
       "      <th>4</th>\n",
       "      <td>CompheEri</td>\n",
       "      <td>P01588</td>\n",
       "      <td>Hsap</td>\n",
       "      <td>1eer</td>\n",
       "    </tr>\n",
       "    <tr>\n",
       "      <th>5</th>\n",
       "      <td>Electrans</td>\n",
       "      <td>P13804</td>\n",
       "      <td>Hsap</td>\n",
       "      <td>1EFV</td>\n",
       "    </tr>\n",
       "    <tr>\n",
       "      <th>6</th>\n",
       "      <td>Transferase</td>\n",
       "      <td>P18956</td>\n",
       "      <td>Ecoli</td>\n",
       "      <td>2E0X</td>\n",
       "    </tr>\n",
       "    <tr>\n",
       "      <th>7</th>\n",
       "      <td>Ligase</td>\n",
       "      <td>PoA6T9</td>\n",
       "      <td>Ecoli</td>\n",
       "      <td>3a7a</td>\n",
       "    </tr>\n",
       "    <tr>\n",
       "      <th>8</th>\n",
       "      <td>mRNAbind</td>\n",
       "      <td>G5ECF1</td>\n",
       "      <td>Celg</td>\n",
       "      <td>3Zhe</td>\n",
       "    </tr>\n",
       "    <tr>\n",
       "      <th>9</th>\n",
       "      <td>Rnabinding</td>\n",
       "      <td>Q9XV58</td>\n",
       "      <td>Celg</td>\n",
       "      <td>3NVO</td>\n",
       "    </tr>\n",
       "  </tbody>\n",
       "</table>\n",
       "</div>"
      ],
      "text/plain": [
       "        Function   UniID Species   PDB\n",
       "0    Transferase  P29295    Scer  5cy3\n",
       "1      Hydrolase  P20449    Scer  3peu\n",
       "2  Transcription  P54784    Scer  1zhi\n",
       "3    Hemoglobine  P68871    Hsap  1A3N\n",
       "4      CompheEri  P01588    Hsap  1eer\n",
       "5      Electrans  P13804    Hsap  1EFV\n",
       "6    Transferase  P18956   Ecoli  2E0X\n",
       "7         Ligase  PoA6T9   Ecoli  3a7a\n",
       "8       mRNAbind  G5ECF1    Celg  3Zhe\n",
       "9     Rnabinding  Q9XV58    Celg  3NVO"
      ]
     },
     "execution_count": 41,
     "metadata": {},
     "output_type": "execute_result"
    }
   ],
   "source": [
    "data = pd.read_table('../Data/Heteromers/protList.tab')\n",
    "data"
   ]
  },
  {
   "cell_type": "markdown",
   "metadata": {},
   "source": [
    "## Protein sequences from uniprot"
   ]
  },
  {
   "cell_type": "code",
   "execution_count": 35,
   "metadata": {},
   "outputs": [
    {
     "name": "stdout",
     "output_type": "stream",
     "text": [
      "P29295\n",
      "https://www.uniprot.org/uniprot/P29295.fasta\n",
      "P20449\n",
      "https://www.uniprot.org/uniprot/P20449.fasta\n",
      "P54784\n",
      "https://www.uniprot.org/uniprot/P54784.fasta\n",
      "P68871\n",
      "https://www.uniprot.org/uniprot/P68871.fasta\n",
      "P01588\n",
      "https://www.uniprot.org/uniprot/P01588.fasta\n",
      "P13804\n",
      "https://www.uniprot.org/uniprot/P13804.fasta\n",
      "P18956\n",
      "https://www.uniprot.org/uniprot/P18956.fasta\n",
      "PoA6T9\n",
      "https://www.uniprot.org/uniprot/PoA6T9.fasta\n",
      "G5ECF1\n",
      "https://www.uniprot.org/uniprot/G5ECF1.fasta\n",
      "Q9XV58\n",
      "https://www.uniprot.org/uniprot/Q9XV58.fasta\n"
     ]
    }
   ],
   "source": [
    "for code in data['UniID']:\n",
    "    print(code)\n",
    "    url = \"https://www.uniprot.org/uniprot/\"+code+\".fasta\"\n",
    "    print(url)\n",
    "    wget.download(url)"
   ]
  },
  {
   "cell_type": "code",
   "execution_count": 36,
   "metadata": {},
   "outputs": [],
   "source": [
    "mv *.fasta ../Data/Heteromers/"
   ]
  },
  {
   "cell_type": "markdown",
   "metadata": {},
   "source": [
    "## PDB files from PDB"
   ]
  },
  {
   "cell_type": "code",
   "execution_count": 44,
   "metadata": {},
   "outputs": [
    {
     "name": "stdout",
     "output_type": "stream",
     "text": [
      "5cy3\n",
      "https://files.rcsb.org/download/5cy3.pdb\n",
      "3peu\n",
      "https://files.rcsb.org/download/3peu.pdb\n",
      "1zhi\n",
      "https://files.rcsb.org/download/1zhi.pdb\n",
      "1A3N\n",
      "https://files.rcsb.org/download/1A3N.pdb\n",
      "1eer\n",
      "https://files.rcsb.org/download/1eer.pdb\n",
      "1EFV\n",
      "https://files.rcsb.org/download/1EFV.pdb\n",
      "2E0X\n",
      "https://files.rcsb.org/download/2E0X.pdb\n",
      "3a7a\n",
      "https://files.rcsb.org/download/3a7a.pdb\n",
      "3Zhe\n",
      "https://files.rcsb.org/download/3Zhe.pdb\n",
      "3NVO\n",
      "https://files.rcsb.org/download/3NVO.pdb\n"
     ]
    }
   ],
   "source": [
    "for code in data['PDB']:\n",
    "    print(code)\n",
    "    url = \"https://files.rcsb.org/download/\"+code+\".pdb\"\n",
    "    print(url)\n",
    "    wget.download(url)"
   ]
  },
  {
   "cell_type": "code",
   "execution_count": 45,
   "metadata": {},
   "outputs": [],
   "source": [
    "mv *.pdb ../Data/Heteromers/"
   ]
  }
 ],
 "metadata": {
  "kernelspec": {
   "display_name": "Python 3",
   "language": "python",
   "name": "python3"
  },
  "language_info": {
   "codemirror_mode": {
    "name": "ipython",
    "version": 3
   },
   "file_extension": ".py",
   "mimetype": "text/x-python",
   "name": "python",
   "nbconvert_exporter": "python",
   "pygments_lexer": "ipython3",
   "version": "3.5.2"
  }
 },
 "nbformat": 4,
 "nbformat_minor": 2
}
