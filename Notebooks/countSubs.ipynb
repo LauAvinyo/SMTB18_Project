{
 "cells": [
  {
   "cell_type": "code",
   "execution_count": 80,
   "metadata": {},
   "outputs": [],
   "source": [
    "from functions import *\n",
    "from Bio import AlignIO\n",
    "import matplotlib.pyplot as plt\n",
    "\n",
    "alp=list(\"ACDEFGHIKLMNPQRSTVWY\")"
   ]
  },
  {
   "cell_type": "code",
   "execution_count": 2,
   "metadata": {},
   "outputs": [],
   "source": [
    "charge = {\n",
    "    'positive' : set(('R','H', 'K')),\n",
    "    'negative' : set(('D', 'E')),\n",
    "    'neutral'  : set(('A', 'N', 'C', 'Q', 'G', 'I', 'L', 'M', \n",
    "                     'F', 'P', 'S', 'T', 'W', 'Y', 'U'))\n",
    "    }\n",
    "\n",
    "polarity = {\n",
    "    'polar'  : set(('R', 'N', 'D', 'C', 'Q', 'E', \n",
    "                   'G', 'H', 'K', 'S', 'T', 'Y')),\n",
    "    'apolar' : set(('A', 'I', 'L', 'M',\n",
    "                  'F', 'F', 'W', 'V'))\n",
    "}\n",
    "\n",
    "polarityVolume = {\n",
    "    'special'      : set('C',),\n",
    "    'neutralSmall' : set(('A', 'G', 'P', 'S', 'T')),\n",
    "    'polarSmall'   : set(('N', 'D', 'Q', 'E')),\n",
    "    'polarLarge'   : set(('R', 'H', 'K')),\n",
    "    'apolarSmall'  : set(('I', 'L', 'M', 'V')),\n",
    "    'apolarLarge'  : set(('F', 'W', 'Y'))\n",
    "}"
   ]
  },
  {
   "cell_type": "code",
   "execution_count": 43,
   "metadata": {},
   "outputs": [],
   "source": [
    "aa_charact = {}\n",
    "for i in alp:\n",
    "    for k in charge:\n",
    "        if i in charge[k]:\n",
    "            c = k\n",
    "    for k in polarity:\n",
    "        if i in polarity[k]:\n",
    "            p = k\n",
    "    for k in polarityVolume:\n",
    "        if i in polarityVolume[k]:\n",
    "            v = k\n",
    "    aa_charact[i] = (c, p, k)"
   ]
  },
  {
   "cell_type": "code",
   "execution_count": 44,
   "metadata": {},
   "outputs": [
    {
     "data": {
      "text/plain": [
       "{'A': ('neutral', 'apolar', 'apolarLarge'),\n",
       " 'C': ('neutral', 'polar', 'apolarLarge'),\n",
       " 'D': ('negative', 'polar', 'apolarLarge'),\n",
       " 'E': ('negative', 'polar', 'apolarLarge'),\n",
       " 'F': ('neutral', 'apolar', 'apolarLarge'),\n",
       " 'G': ('neutral', 'polar', 'apolarLarge'),\n",
       " 'H': ('positive', 'polar', 'apolarLarge'),\n",
       " 'I': ('neutral', 'apolar', 'apolarLarge'),\n",
       " 'K': ('positive', 'polar', 'apolarLarge'),\n",
       " 'L': ('neutral', 'apolar', 'apolarLarge'),\n",
       " 'M': ('neutral', 'apolar', 'apolarLarge'),\n",
       " 'N': ('neutral', 'polar', 'apolarLarge'),\n",
       " 'P': ('neutral', 'polar', 'apolarLarge'),\n",
       " 'Q': ('neutral', 'polar', 'apolarLarge'),\n",
       " 'R': ('positive', 'polar', 'apolarLarge'),\n",
       " 'S': ('neutral', 'polar', 'apolarLarge'),\n",
       " 'T': ('neutral', 'polar', 'apolarLarge'),\n",
       " 'V': ('neutral', 'apolar', 'apolarLarge'),\n",
       " 'W': ('neutral', 'apolar', 'apolarLarge'),\n",
       " 'Y': ('neutral', 'polar', 'apolarLarge')}"
      ]
     },
     "execution_count": 44,
     "metadata": {},
     "output_type": "execute_result"
    }
   ],
   "source": [
    "aa_charact"
   ]
  },
  {
   "cell_type": "code",
   "execution_count": 5,
   "metadata": {},
   "outputs": [],
   "source": [
    "query = 'B3GWA1'"
   ]
  },
  {
   "cell_type": "code",
   "execution_count": 6,
   "metadata": {},
   "outputs": [],
   "source": [
    "alig = readAlig('alignOurs.fa', 'fasta')"
   ]
  },
  {
   "cell_type": "code",
   "execution_count": 7,
   "metadata": {},
   "outputs": [],
   "source": [
    "lSeq = len(alig[query])\n",
    "nSeq = len(alig)"
   ]
  },
  {
   "cell_type": "code",
   "execution_count": 15,
   "metadata": {},
   "outputs": [],
   "source": [
    " # this is the AA alphabet\n",
    "alp\n",
    "listSubs = []\n",
    "for i in range(len(alp)):\n",
    "    for j in range(i, len(alp)):\n",
    "        listSubs.append((alp[i], alp[j]))\n",
    "\n",
    "listSubs = tuple(listSubs)"
   ]
  },
  {
   "cell_type": "code",
   "execution_count": 23,
   "metadata": {},
   "outputs": [],
   "source": [
    "subsDic = {}\n",
    "for x in range(lSeq):\n",
    "    subsDic[x]= {}\n",
    "    for y in listSubs:\n",
    "        subsDic[x][y] = 0"
   ]
  },
  {
   "cell_type": "code",
   "execution_count": 36,
   "metadata": {},
   "outputs": [],
   "source": [
    "subsDic[0];"
   ]
  },
  {
   "cell_type": "code",
   "execution_count": 28,
   "metadata": {},
   "outputs": [],
   "source": [
    "sequences = tuple(alig[i] for i in alig)"
   ]
  },
  {
   "cell_type": "code",
   "execution_count": 33,
   "metadata": {},
   "outputs": [],
   "source": [
    "for x in range(lSeq):\n",
    "    for y in range(nSeq):\n",
    "        for z in range(y+1, nSeq):\n",
    "            aa1 = sequences[y][x]\n",
    "            aa2 = sequences[z][x]\n",
    "            if aa1 == '-' or aa2 == '-': continue\n",
    "            sub = (min(aa1,aa2), max(aa1,aa2))\n",
    "            subsDic[x][sub] += 1"
   ]
  },
  {
   "cell_type": "code",
   "execution_count": 1,
   "metadata": {},
   "outputs": [
    {
     "ename": "NameError",
     "evalue": "name 'subsDic' is not defined",
     "output_type": "error",
     "traceback": [
      "\u001b[0;31m---------------------------------------------------------------------------\u001b[0m",
      "\u001b[0;31mNameError\u001b[0m                                 Traceback (most recent call last)",
      "\u001b[0;32m<ipython-input-1-deca4b059895>\u001b[0m in \u001b[0;36m<module>\u001b[0;34m()\u001b[0m\n\u001b[0;32m----> 1\u001b[0;31m \u001b[0msubsDic\u001b[0m\u001b[0;34m[\u001b[0m\u001b[0;36m60\u001b[0m\u001b[0;34m]\u001b[0m\u001b[0;34m;\u001b[0m\u001b[0;34m\u001b[0m\u001b[0m\n\u001b[0m",
      "\u001b[0;31mNameError\u001b[0m: name 'subsDic' is not defined"
     ]
    }
   ],
   "source": [
    "subsDic[60];"
   ]
  },
  {
   "cell_type": "code",
   "execution_count": 55,
   "metadata": {},
   "outputs": [],
   "source": [
    "conservative = set()\n",
    "for aa1 in polarity['polar']:\n",
    "    for aa2 in polarity['polar']:\n",
    "        subs = (min(aa1,aa2), max(aa1,aa2))\n",
    "        conservative.add(subs)\n",
    "\n",
    "for aa3 in polarity['apolar']:\n",
    "    for aa4 in polarity['apolar']:\n",
    "        subs1 = (min(aa3,aa4), max(aa3,aa4))\n",
    "        conservative.add(subs1)\n",
    "        \n",
    "radical = set()\n",
    "for aa5 in polarity['polar']:\n",
    "    for aa6 in polarity['apolar']:\n",
    "        subs2 = (min(aa5,aa2), max(aa1,aa6))\n",
    "        radical.add(subs2)"
   ]
  },
  {
   "cell_type": "code",
   "execution_count": 62,
   "metadata": {},
   "outputs": [],
   "source": []
  },
  {
   "cell_type": "code",
   "execution_count": 75,
   "metadata": {},
   "outputs": [],
   "source": [
    "consRad = {} \n",
    "for p in range(lSeq):\n",
    "    consRad[p] = [0, 0]\n",
    "    for s in listSubs:\n",
    "        if s in conservative:\n",
    "            consRad[p][0] += subsDic[p][s]\n",
    "        else: # if s in radical\n",
    "            consRad[p][1] += subsDic[p][s]"
   ]
  },
  {
   "cell_type": "code",
   "execution_count": 76,
   "metadata": {},
   "outputs": [
    {
     "data": {
      "text/plain": [
       "[1056, 597]"
      ]
     },
     "execution_count": 76,
     "metadata": {},
     "output_type": "execute_result"
    }
   ],
   "source": [
    "consRad[6]"
   ]
  },
  {
   "cell_type": "code",
   "execution_count": 81,
   "metadata": {},
   "outputs": [
    {
     "data": {
      "text/plain": [
       "Text(0,0.5,'Conservative')"
      ]
     },
     "execution_count": 81,
     "metadata": {},
     "output_type": "execute_result"
    },
    {
     "data": {
      "image/png": "[encoded data removed]",
      "text/plain": [
       "<Figure size 432x288 with 1 Axes>"
      ]
     },
     "metadata": {},
     "output_type": "display_data"
    }
   ],
   "source": [
    "# X = Number of radical\n",
    "x = list(consRad[i][1] for i in range(lSeq))\n",
    "# Y = Number of conservative\n",
    "y = list(consRad[i][0] for i in range(lSeq))\n",
    "\n",
    "plt.scatter(x, y)\n",
    "plt.xlabel('Radical')\n",
    "plt.ylabel('Conservative')"
   ]
  },
  {
   "cell_type": "code",
   "execution_count": 84,
   "metadata": {},
   "outputs": [],
   "source": [
    "ratio = []\n",
    "\n",
    "for x in range(lSeq):\n",
    "    if consRad[x][1] == 0:\n",
    "        r = 0\n",
    "    else: \n",
    "        r = consRad[x][0]/consRad[x][1]   \n",
    "    ratio.append(r)"
   ]
  },
  {
   "cell_type": "code",
   "execution_count": 87,
   "metadata": {},
   "outputs": [
    {
     "name": "stdout",
     "output_type": "stream",
     "text": [
      "3.9224990002357942\n"
     ]
    }
   ],
   "source": [
    "mean = sum(ratio)/ len(ratio)\n",
    "print(mean)"
   ]
  },
  {
   "cell_type": "code",
   "execution_count": 88,
   "metadata": {},
   "outputs": [],
   "source": [
    "norm = []\n",
    "for x in ratio:\n",
    "    y = (x - mean)/mean\n",
    "    norm.append(y)"
   ]
  },
  {
   "cell_type": "code",
   "execution_count": 90,
   "metadata": {},
   "outputs": [],
   "source": [
    "norm1 = list(((x-mean)/mean) for x in ratio)"
   ]
  },
  {
   "cell_type": "code",
   "execution_count": 91,
   "metadata": {},
   "outputs": [
    {
     "data": {
      "text/plain": [
       "True"
      ]
     },
     "execution_count": 91,
     "metadata": {},
     "output_type": "execute_result"
    }
   ],
   "source": [
    "norm == norm1"
   ]
  },
  {
   "cell_type": "code",
   "execution_count": 93,
   "metadata": {},
   "outputs": [],
   "source": [
    "conservative = set()\n",
    "for at in polarityVolume:\n",
    "    for aa1 in polarityVolume[at]:\n",
    "        for aa2 in polarityVolume[at]:\n",
    "            subs = (min(aa1,aa2), max(aa1,aa2))\n",
    "            conservative.add(subs)\n",
    "setSubs = set(listSubs)\n",
    "radical = setSubs.difference(conservative)"
   ]
  },
  {
   "cell_type": "code",
   "execution_count": 96,
   "metadata": {},
   "outputs": [],
   "source": [
    "radical;"
   ]
  },
  {
   "cell_type": "code",
   "execution_count": 97,
   "metadata": {},
   "outputs": [],
   "source": [
    "conservative;"
   ]
  },
  {
   "cell_type": "code",
   "execution_count": null,
   "metadata": {},
   "outputs": [],
   "source": []
  }
 ],
 "metadata": {
  "kernelspec": {
   "display_name": "Python 3",
   "language": "python",
   "name": "python3"
  },
  "language_info": {
   "codemirror_mode": {
    "name": "ipython",
    "version": 3
   },
   "file_extension": ".py",
   "mimetype": "text/x-python",
   "name": "python",
   "nbconvert_exporter": "python",
   "pygments_lexer": "ipython3",
   "version": "3.5.2"
  }
 },
 "nbformat": 4,
 "nbformat_minor": 2
}
