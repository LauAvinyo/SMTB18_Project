{
 "cells": [
  {
   "cell_type": "code",
   "execution_count": 1,
   "metadata": {},
   "outputs": [],
   "source": [
    "homo = '/mnt/c/Users/laura/SMTB18/SMTB18_Project/Data/Homomers/'\n",
    "hete = '/mnt/c/Users/laura/SMTB18/SMTB18_Project/Data/Heteromers/'"
   ]
  },
  {
   "cell_type": "code",
   "execution_count": 4,
   "metadata": {},
   "outputs": [],
   "source": [
    "def readFasta(file):\n",
    "    with open(file, 'r') as f:\n",
    "        s = ''\n",
    "        for line in f:\n",
    "            if line.startswith('>'):\n",
    "                continue\n",
    "            s += line.strip()\n",
    "    return s"
   ]
  },
  {
   "cell_type": "code",
   "execution_count": 5,
   "metadata": {},
   "outputs": [
    {
     "name": "stderr",
     "output_type": "stream",
     "text": [
      "/usr/lib/python3.5/importlib/_bootstrap.py:222: RuntimeWarning: numpy.dtype size changed, may indicate binary incompatibility. Expected 96, got 88\n",
      "  return f(*args, **kwds)\n",
      "/usr/lib/python3.5/importlib/_bootstrap.py:222: RuntimeWarning: numpy.dtype size changed, may indicate binary incompatibility. Expected 96, got 88\n",
      "  return f(*args, **kwds)\n"
     ]
    }
   ],
   "source": [
    "import pandas as pd\n",
    "import matplotlib.pyplot as plt"
   ]
  },
  {
   "cell_type": "code",
   "execution_count": 12,
   "metadata": {},
   "outputs": [
    {
     "data": {
      "text/html": [
       "<div>\n",
       "<style scoped>\n",
       "    .dataframe tbody tr th:only-of-type {\n",
       "        vertical-align: middle;\n",
       "    }\n",
       "\n",
       "    .dataframe tbody tr th {\n",
       "        vertical-align: top;\n",
       "    }\n",
       "\n",
       "    .dataframe thead th {\n",
       "        text-align: right;\n",
       "    }\n",
       "</style>\n",
       "<table border=\"1\" class=\"dataframe\">\n",
       "  <thead>\n",
       "    <tr style=\"text-align: right;\">\n",
       "      <th></th>\n",
       "      <th>Function</th>\n",
       "      <th>UniID</th>\n",
       "      <th>Species</th>\n",
       "      <th>PDB chain   to</th>\n",
       "    </tr>\n",
       "  </thead>\n",
       "  <tbody>\n",
       "    <tr>\n",
       "      <th>0</th>\n",
       "      <td>Transferase</td>\n",
       "      <td>Q06592</td>\n",
       "      <td>Scer</td>\n",
       "      <td>1qso    A   B</td>\n",
       "    </tr>\n",
       "    <tr>\n",
       "      <th>1</th>\n",
       "      <td>Oxidoreductase</td>\n",
       "      <td>O75874</td>\n",
       "      <td>Hsap</td>\n",
       "      <td>4kzo    A   B</td>\n",
       "    </tr>\n",
       "    <tr>\n",
       "      <th>2</th>\n",
       "      <td>Transport</td>\n",
       "      <td>P02766</td>\n",
       "      <td>Hsap</td>\n",
       "      <td>4n85    A   B</td>\n",
       "    </tr>\n",
       "    <tr>\n",
       "      <th>3</th>\n",
       "      <td>Transferase</td>\n",
       "      <td>P0A6C8</td>\n",
       "      <td>Ecoli</td>\n",
       "      <td>2x2w    B   A</td>\n",
       "    </tr>\n",
       "    <tr>\n",
       "      <th>4</th>\n",
       "      <td>RNAbinding</td>\n",
       "      <td>B3GWA1</td>\n",
       "      <td>Celg</td>\n",
       "      <td>5ca5    A   B</td>\n",
       "    </tr>\n",
       "  </tbody>\n",
       "</table>\n",
       "</div>"
      ],
      "text/plain": [
       "         Function   UniID Species     PDB chain   to\n",
       "0     Transferase  Q06592    Scer  1qso    A   B    \n",
       "1  Oxidoreductase  O75874    Hsap      4kzo    A   B\n",
       "2       Transport  P02766    Hsap      4n85    A   B\n",
       "3     Transferase  P0A6C8   Ecoli      2x2w    B   A\n",
       "4      RNAbinding  B3GWA1    Celg      5ca5    A   B"
      ]
     },
     "execution_count": 12,
     "metadata": {},
     "output_type": "execute_result"
    }
   ],
   "source": [
    "hetero = pd.read_table('../Data/Heteromers/protList.tab')\n",
    "homome = pd.read_table('../Data/Homomers/protList.tab')\n",
    "homome"
   ]
  },
  {
   "cell_type": "code",
   "execution_count": null,
   "metadata": {},
   "outputs": [],
   "source": []
  },
  {
   "cell_type": "markdown",
   "metadata": {},
   "source": [
    "# HOMOMERS"
   ]
  },
  {
   "cell_type": "markdown",
   "metadata": {},
   "source": [
    "### Q06592"
   ]
  },
  {
   "cell_type": "code",
   "execution_count": 11,
   "metadata": {},
   "outputs": [
    {
     "name": "stdout",
     "output_type": "stream",
     "text": [
      "  chain  pos   aa\n",
      "0     A  139  TYR\n",
      "1     A  127  CYS\n",
      "2     A   74  ASN\n",
      "3     A  123  SER\n",
      "4     A  125  TYR\n"
     ]
    },
    {
     "data": {
      "image/png": "[encoded data removed]",
      "text/plain": [
       "<Figure size 432x288 with 1 Axes>"
      ]
     },
     "metadata": {},
     "output_type": "display_data"
    },
    {
     "data": {
      "text/plain": [
       "(0.4, 1.6)"
      ]
     },
     "execution_count": 11,
     "metadata": {},
     "output_type": "execute_result"
    },
    {
     "data": {
      "image/png": "[encoded data removed]",
      "text/plain": [
       "<Figure size 432x288 with 1 Axes>"
      ]
     },
     "metadata": {},
     "output_type": "display_data"
    }
   ],
   "source": [
    "code = 'Q06592'\n",
    "pdb='1qso_A'\n",
    "\n",
    "shan = pd.read_table('../Data/Homomers/'+code+'.shannon')\n",
    "rate = pd.read_table('../Data/Homomers/'+code+'.rate')\n",
    "data = pd.concat([shan, rate], axis=1)\n",
    "\n",
    "surf = pd.read_table('../Data/Homomers/Surface/'+pdb+'.surf')\n",
    "\n",
    "intr = pd.read_table('../Data/Homomers/1qso.interfaces')\n",
    "print(intr.head())\n",
    "\n",
    "dataDic = {}\n",
    "for i in data['pos'].index:\n",
    "    dataDic[data.iloc[i]['pos']] = (data.iloc[i]['entropy'], data.iloc[i]['norm'])\n",
    "surfDic = {} \n",
    "for i in surf['pos'].index:\n",
    "    surfDic[surf.iloc[i]['pos']] = (surf.iloc[i]['surface'])\n",
    "    \n",
    "inter = set(intr['pos'])\n",
    "\n",
    "\n",
    "surfHist = tuple(dataDic[i][0] for i in surfDic if surfDic[i] == 1 and i in dataDic and i not in inter)\n",
    "coreHist = tuple(dataDic[i][0] for i in surfDic if surfDic[i] == 0 and i in dataDic and i not in inter)\n",
    "intrHist = tuple(dataDic[i][0] for i in surfDic if i in inter)\n",
    "\n",
    "plt.hist(surfHist, label='surface', alpha=1)\n",
    "plt.hist(coreHist, label='core', alpha=0.75)\n",
    "plt.hist(intrHist, label='interface', alpha=0.5)\n",
    "plt.legend()\n",
    "plt.xlabel('Shannon')\n",
    "plt.show()\n",
    "\n",
    "plt.boxplot(surfHist, positions=[1.2])\n",
    "plt.boxplot(coreHist, positions=[1])\n",
    "plt.boxplot(intrHist, positions=[0.8])\n",
    "plt.xlim((0.4, 1.6))"
   ]
  },
  {
   "cell_type": "markdown",
   "metadata": {},
   "source": [
    "# O75874"
   ]
  },
  {
   "cell_type": "code",
   "execution_count": 100,
   "metadata": {},
   "outputs": [
    {
     "data": {
      "image/png": "[encoded data removed]",
      "text/plain": [
       "<Figure size 432x288 with 1 Axes>"
      ]
     },
     "metadata": {},
     "output_type": "display_data"
    },
    {
     "data": {
      "text/plain": [
       "(0.4, 1.6)"
      ]
     },
     "execution_count": 100,
     "metadata": {},
     "output_type": "execute_result"
    },
    {
     "data": {
      "image/png": "[encoded data removed]",
      "text/plain": [
       "<Figure size 432x288 with 1 Axes>"
      ]
     },
     "metadata": {},
     "output_type": "display_data"
    }
   ],
   "source": [
    "code = 'O75874'\n",
    "pdb='4kzo_A'\n",
    "\n",
    "shan = pd.read_table('../Data/Homomers/'+code+'.shannon')\n",
    "rate = pd.read_table('../Data/Homomers/'+code+'.rate')\n",
    "data = pd.concat([shan, rate], axis=1)\n",
    "\n",
    "surf = pd.read_table('../Data/Homomers/Surface/'+pdb+'.surf')\n",
    "\n",
    "intr1 = pd.read_table('../Data/Homomers/out_4kzo_inter/molecule_1.txt', sep=' ', header=-1, names=['aa', 'pos', 'inter'])\n",
    "intr2 = pd.read_table('../Data/Homomers/out_4kzo_inter/molecule_2.txt', sep=' ', header=-1, names=['aa', 'pos', 'inter'])\n",
    "\n",
    "dataDic = {}\n",
    "for i in data['pos'].index:\n",
    "    dataDic[data.iloc[i]['pos']] = (data.iloc[i]['entropy'], data.iloc[i]['norm'])\n",
    "surfDic = {} \n",
    "for i in surf['pos'].index:\n",
    "    surfDic[surf.iloc[i]['pos']] = (surf.iloc[i]['surface'])\n",
    "    \n",
    "intrI = intr1['inter'] == 'I'\n",
    "inter1 = set(intr1[intrI]['pos'])\n",
    "\n",
    "intrI = intr2['inter'] == 'I'\n",
    "inter2 = set(intr2[intrI]['pos'])\n",
    "\n",
    "surfHist = tuple(dataDic[i][0] for i in surfDic if surfDic[i] == 1 and i in dataDic and i not in inter1 and i not in inter2)\n",
    "coreHist = tuple(dataDic[i][0] for i in surfDic if surfDic[i] == 0 and i in dataDic and i not in inter1 and i not in inter2)\n",
    "intrHist = tuple(dataDic[i][0] for i in surfDic if i in inter1 or i in inter2)\n",
    "\n",
    "plt.hist(surfHist, label='surface', alpha=1)\n",
    "plt.hist(coreHist, label='core', alpha=0.75)\n",
    "plt.hist(intrHist, label='interface', alpha=0.5)\n",
    "plt.legend()\n",
    "plt.xlabel('Shannon')\n",
    "plt.show()\n",
    "\n",
    "plt.boxplot(surfHist, positions=[1.2])\n",
    "plt.boxplot(coreHist, positions=[1])\n",
    "plt.boxplot(intrHist, positions=[0.8])\n",
    "plt.xlim((0.4, 1.6))"
   ]
  },
  {
   "cell_type": "markdown",
   "metadata": {},
   "source": [
    "# P02766"
   ]
  },
  {
   "cell_type": "code",
   "execution_count": 98,
   "metadata": {},
   "outputs": [
    {
     "data": {
      "image/png": "[encoded data removed]",
      "text/plain": [
       "<Figure size 432x288 with 1 Axes>"
      ]
     },
     "metadata": {},
     "output_type": "display_data"
    },
    {
     "data": {
      "text/plain": [
       "(0.4, 1.6)"
      ]
     },
     "execution_count": 98,
     "metadata": {},
     "output_type": "execute_result"
    },
    {
     "data": {
      "image/png": "[encoded data removed]",
      "text/plain": [
       "<Figure size 432x288 with 1 Axes>"
      ]
     },
     "metadata": {},
     "output_type": "display_data"
    }
   ],
   "source": [
    "code = 'O75874'\n",
    "pdb='4kzo_A'\n",
    "\n",
    "shan = pd.read_table('../Data/Homomers/'+code+'.shannon')\n",
    "rate = pd.read_table('../Data/Homomers/'+code+'.rate')\n",
    "data = pd.concat([shan, rate], axis=1)\n",
    "\n",
    "surf = pd.read_table('../Data/Homomers/Surface/'+pdb+'.surf')\n",
    "\n",
    "intr1 = pd.read_table('../Data/Homomers/out_4n85_inter/molecule_1.txt', sep=' ', header=-1, names=['aa', 'pos', 'inter'])\n",
    "intr2 = pd.read_table('../Data/Homomers/out_4n85_inter/molecule_2.txt', sep=' ', header=-1, names=['aa', 'pos', 'inter'])\n",
    "\n",
    "dataDic = {}\n",
    "for i in data['pos'].index:\n",
    "    dataDic[data.iloc[i]['pos']] = (data.iloc[i]['entropy'], data.iloc[i]['norm'])\n",
    "surfDic = {} \n",
    "for i in surf['pos'].index:\n",
    "    surfDic[surf.iloc[i]['pos']] = (surf.iloc[i]['surface'])\n",
    "    \n",
    "intrI = intr1['inter'] == 'I'\n",
    "inter1 = set(intr1[intrI]['pos'])\n",
    "\n",
    "intrI = intr2['inter'] == 'I'\n",
    "inter2 = set(intr2[intrI]['pos'])\n",
    "\n",
    "surfHist = tuple(dataDic[i][1] for i in surfDic if surfDic[i] == 1 and i in dataDic and i not in inter1 and i not in inter2)\n",
    "coreHist = tuple(dataDic[i][1] for i in surfDic if surfDic[i] == 0 and i in dataDic and i not in inter1 and i not in inter2)\n",
    "intrHist = tuple(dataDic[i][1] for i in surfDic if i in inter1 or i in inter2)\n",
    "\n",
    "plt.hist(surfHist, label='surface', alpha=1)\n",
    "plt.hist(coreHist, label='core', alpha=0.75)\n",
    "plt.hist(intrHist, label='interface', alpha=0.5)\n",
    "plt.legend()\n",
    "plt.xlabel('Shannon')\n",
    "plt.show()\n",
    "\n",
    "plt.boxplot(surfHist, positions=[1.2])\n",
    "plt.boxplot(coreHist, positions=[1])\n",
    "plt.boxplot(intrHist, positions=[0.8])\n",
    "plt.xlim((0.4, 1.6))"
   ]
  },
  {
   "cell_type": "markdown",
   "metadata": {},
   "source": [
    "# P0A6C8"
   ]
  },
  {
   "cell_type": "code",
   "execution_count": 99,
   "metadata": {},
   "outputs": [
    {
     "data": {
      "image/png": "[encoded data removed]",
      "text/plain": [
       "<Figure size 432x288 with 1 Axes>"
      ]
     },
     "metadata": {},
     "output_type": "display_data"
    },
    {
     "data": {
      "text/plain": [
       "(0.4, 1.6)"
      ]
     },
     "execution_count": 99,
     "metadata": {},
     "output_type": "execute_result"
    },
    {
     "data": {
      "image/png": "[encoded data removed]",
      "text/plain": [
       "<Figure size 432x288 with 1 Axes>"
      ]
     },
     "metadata": {},
     "output_type": "display_data"
    }
   ],
   "source": [
    "code = 'P0A6C8'\n",
    "pdb='2x2w_B'\n",
    "\n",
    "shan = pd.read_table('../Data/Homomers/'+code+'.shannon')\n",
    "rate = pd.read_table('../Data/Homomers/'+code+'.rate')\n",
    "data = pd.concat([shan, rate], axis=1)\n",
    "\n",
    "surf = pd.read_table('../Data/Homomers/Surface/'+pdb+'.surf')\n",
    "\n",
    "intr1 = pd.read_table('../Data/Homomers/out_2x2w_inter/molecule_1.txt', sep=' ', header=-1, names=['aa', 'pos', 'inter'])\n",
    "intr2 = pd.read_table('../Data/Homomers/out_2x2w_inter/molecule_2.txt', sep=' ', header=-1, names=['aa', 'pos', 'inter'])\n",
    "\n",
    "dataDic = {}\n",
    "for i in data['pos'].index:\n",
    "    dataDic[data.iloc[i]['pos']] = (data.iloc[i]['entropy'], data.iloc[i]['norm'])\n",
    "surfDic = {} \n",
    "for i in surf['pos'].index:\n",
    "    surfDic[surf.iloc[i]['pos']] = (surf.iloc[i]['surface'])\n",
    "    \n",
    "intrI = intr1['inter'] == 'I'\n",
    "inter1 = set(intr1[intrI]['pos'])\n",
    "\n",
    "intrI = intr2['inter'] == 'I'\n",
    "inter2 = set(intr2[intrI]['pos'])\n",
    "\n",
    "surfHist = tuple(dataDic[i][1] for i in surfDic if surfDic[i] == 1 and i in dataDic and i not in inter1 and i not in inter2)\n",
    "coreHist = tuple(dataDic[i][1] for i in surfDic if surfDic[i] == 0 and i in dataDic and i not in inter1 and i not in inter2)\n",
    "intrHist = tuple(dataDic[i][1] for i in surfDic if i in inter1 or i in inter2)\n",
    "\n",
    "plt.hist(surfHist, label='surface', alpha=1)\n",
    "plt.hist(coreHist, label='core', alpha=0.75)\n",
    "plt.hist(intrHist, label='interface', alpha=0.5)\n",
    "plt.legend()\n",
    "plt.xlabel('Shannon')\n",
    "plt.show()\n",
    "\n",
    "plt.boxplot(surfHist, positions=[1.2])\n",
    "plt.boxplot(coreHist, positions=[1])\n",
    "plt.boxplot(intrHist, positions=[0.8])\n",
    "plt.xlim((0.4, 1.6))"
   ]
  },
  {
   "cell_type": "markdown",
   "metadata": {},
   "source": [
    "# B3GWA1"
   ]
  },
  {
   "cell_type": "code",
   "execution_count": 78,
   "metadata": {},
   "outputs": [
    {
     "data": {
      "image/png": "[encoded data removed]",
      "text/plain": [
       "<Figure size 432x288 with 1 Axes>"
      ]
     },
     "metadata": {},
     "output_type": "display_data"
    },
    {
     "data": {
      "text/plain": [
       "(0.4, 1.6)"
      ]
     },
     "execution_count": 78,
     "metadata": {},
     "output_type": "execute_result"
    },
    {
     "data": {
      "image/png": "[encoded data removed]",
      "text/plain": [
       "<Figure size 432x288 with 1 Axes>"
      ]
     },
     "metadata": {},
     "output_type": "display_data"
    }
   ],
   "source": [
    "code = 'P0A6C8'\n",
    "pdb='5ca5_A'\n",
    "\n",
    "shan = pd.read_table('../Data/Homomers/'+code+'.shannon')\n",
    "rate = pd.read_table('../Data/Homomers/'+code+'.rate')\n",
    "data = pd.concat([shan, rate], axis=1)\n",
    "\n",
    "surf = pd.read_table('../Data/Homomers/Surface/'+pdb+'.surf')\n",
    "\n",
    "intr1 = pd.read_table('../Data/Homomers/out_5ac5_inter/molecule_1.txt', sep=' ', header=-1, names=['aa', 'pos', 'inter'])\n",
    "intr2 = pd.read_table('../Data/Homomers/out_5ac5_inter/molecule_2.txt', sep=' ', header=-1, names=['aa', 'pos', 'inter'])\n",
    "\n",
    "dataDic = {}\n",
    "for i in data['pos'].index:\n",
    "    dataDic[data.iloc[i]['pos']] = (data.iloc[i]['entropy'], data.iloc[i]['norm'])\n",
    "surfDic = {} \n",
    "for i in surf['pos'].index:\n",
    "    surfDic[surf.iloc[i]['pos']] = (surf.iloc[i]['surface'])\n",
    "    \n",
    "intrI = intr1['inter'] == 'I'\n",
    "inter1 = set(intr1[intrI]['pos'])\n",
    "\n",
    "intrI = intr2['inter'] == 'I'\n",
    "inter2 = set(intr2[intrI]['pos'])\n",
    "\n",
    "surfHist = tuple(dataDic[i][0] for i in surfDic if surfDic[i] == 1 and i in dataDic and i not in inter1 and i not in inter2)\n",
    "coreHist = tuple(dataDic[i][0] for i in surfDic if surfDic[i] == 0 and i in dataDic and i not in inter1 and i not in inter2)\n",
    "intrHist = tuple(dataDic[i][0] for i in surfDic if (i in inter1 or i in inter2) and  i in dataDic )\n",
    "\n",
    "plt.hist(surfHist, label='surface', alpha=1)\n",
    "plt.hist(coreHist, label='core', alpha=0.75)\n",
    "plt.hist(intrHist, label='interface', alpha=0.5)\n",
    "plt.legend()\n",
    "plt.xlabel('Shannon')\n",
    "plt.show()\n",
    "\n",
    "plt.boxplot(surfHist, positions=[1.2])\n",
    "plt.boxplot(coreHist, positions=[1])\n",
    "plt.boxplot(intrHist, positions=[0.8])\n",
    "plt.xlim((0.4, 1.6))"
   ]
  },
  {
   "cell_type": "markdown",
   "metadata": {},
   "source": [
    "# HETEROMERS"
   ]
  },
  {
   "cell_type": "markdown",
   "metadata": {},
   "source": [
    "### P18956"
   ]
  },
  {
   "cell_type": "code",
   "execution_count": 81,
   "metadata": {},
   "outputs": [
    {
     "data": {
      "image/png": "[encoded data removed]",
      "text/plain": [
       "<Figure size 432x288 with 1 Axes>"
      ]
     },
     "metadata": {},
     "output_type": "display_data"
    },
    {
     "data": {
      "text/plain": [
       "{'boxes': [<matplotlib.lines.Line2D at 0x7f1c22b08be0>],\n",
       " 'caps': [<matplotlib.lines.Line2D at 0x7f1c228657b8>,\n",
       "  <matplotlib.lines.Line2D at 0x7f1c22c21908>],\n",
       " 'fliers': [<matplotlib.lines.Line2D at 0x7f1c22c219e8>],\n",
       " 'means': [],\n",
       " 'medians': [<matplotlib.lines.Line2D at 0x7f1c22c21898>],\n",
       " 'whiskers': [<matplotlib.lines.Line2D at 0x7f1c22b08d30>,\n",
       "  <matplotlib.lines.Line2D at 0x7f1c22b085c0>]}"
      ]
     },
     "execution_count": 81,
     "metadata": {},
     "output_type": "execute_result"
    },
    {
     "data": {
      "image/png": "[encoded data removed]",
      "text/plain": [
       "<Figure size 432x288 with 1 Axes>"
      ]
     },
     "metadata": {},
     "output_type": "display_data"
    }
   ],
   "source": [
    "code = 'P18956'\n",
    "pdb='2e0x_A'\n",
    "shan = pd.read_table('../Data/Heteromers/'+code+'.shannon')\n",
    "rate = pd.read_table('../Data/Heteromers/'+code+'.rate')\n",
    "data = pd.concat([shan, rate], axis=1)\n",
    "\n",
    "main = readFasta('../Data/Heteromers/'+code+'.fasta')\n",
    "sele = readFasta('../Data/Heteromers/surface/2e0x_A.fasta')\n",
    "\n",
    "surf = pd.read_table('../Data/Heteromers/surface/2e0x_A.surf')\n",
    "\n",
    "intr = pd.read_table('../Data/Heteromers/out_2eOx_inter/molecule_1.txt', sep=' ', header=-1, names=['aa', 'pos', 'inter'])\n",
    "\n",
    "dataDic = {}\n",
    "for i in data['pos'].index:\n",
    "    dataDic[data.iloc[i]['pos']] = (data.iloc[i]['entropy'], data.iloc[i]['norm'])\n",
    "surfDic = {} \n",
    "for i in surf['pos'].index:\n",
    "    surfDic[surf.iloc[i]['pos']] = (surf.iloc[i]['surface'])\n",
    "    \n",
    "intrI = intr['inter'] == 'I'\n",
    "inter = set(intr[intrI]['pos'])\n",
    "\n",
    "surfHist = tuple(dataDic[i][0] for i in surfDic if surfDic[i] == 1 and i in dataDic and i not in inter)\n",
    "coreHist = tuple(dataDic[i][0] for i in surfDic if surfDic[i] == 0 and i in dataDic and i not in inter)\n",
    "intrHist = tuple(dataDic[i][0] for i in surfDic if i in inter)\n",
    "\n",
    "plt.hist(surfHist, label='surface', alpha=1)\n",
    "plt.hist(coreHist, label='core', alpha=0.75)\n",
    "plt.hist(intrHist, label='interface', alpha=0.5)\n",
    "plt.legend()\n",
    "plt.xlabel('Shannon')\n",
    "plt.show()\n",
    "plt.boxplot(surfHist, positions=[1.2])\n",
    "plt.boxplot(coreHist)\n",
    "plt.boxplot(intrHist, positions=[0.8])"
   ]
  },
  {
   "cell_type": "markdown",
   "metadata": {},
   "source": [
    "# P20449"
   ]
  },
  {
   "cell_type": "code",
   "execution_count": 83,
   "metadata": {},
   "outputs": [
    {
     "data": {
      "image/png": "[encoded data removed]",
      "text/plain": [
       "<Figure size 432x288 with 1 Axes>"
      ]
     },
     "metadata": {},
     "output_type": "display_data"
    },
    {
     "data": {
      "text/plain": [
       "{'boxes': [<matplotlib.lines.Line2D at 0x7f1c226e31d0>],\n",
       " 'caps': [<matplotlib.lines.Line2D at 0x7f1c2265b4e0>,\n",
       "  <matplotlib.lines.Line2D at 0x7f1c2265b908>],\n",
       " 'fliers': [<matplotlib.lines.Line2D at 0x7f1c2265be80>],\n",
       " 'means': [],\n",
       " 'medians': [<matplotlib.lines.Line2D at 0x7f1c2265bd30>],\n",
       " 'whiskers': [<matplotlib.lines.Line2D at 0x7f1c226e3898>,\n",
       "  <matplotlib.lines.Line2D at 0x7f1c226e3278>]}"
      ]
     },
     "execution_count": 83,
     "metadata": {},
     "output_type": "execute_result"
    },
    {
     "data": {
      "image/png": "[encoded data removed]",
      "text/plain": [
       "<Figure size 432x288 with 1 Axes>"
      ]
     },
     "metadata": {},
     "output_type": "display_data"
    }
   ],
   "source": [
    "code = 'P20449'\n",
    "pdb='3peu_A'\n",
    "shan = pd.read_table('../Data/Heteromers/P20449.shannon')\n",
    "rate = pd.read_table('../Data/Heteromers/P20449.rate')\n",
    "data = pd.concat([shan, rate], axis=1)\n",
    "\n",
    "main = readFasta('../Data/Heteromers/'+code+'.fasta')\n",
    "sele = readFasta('../Data/Heteromers/surface/3peu_A.fasta')\n",
    "\n",
    "surf = pd.read_table('../Data/Heteromers/surface/3peu_A.surf')\n",
    "\n",
    "intr = pd.read_table('../Data/Heteromers/out_3peu_inter/molecule_1.txt', sep=' ', header=-1, names=['aa', 'pos', 'inter'])\n",
    "\n",
    "dataDic = {}\n",
    "for i in data['pos'].index:\n",
    "    dataDic[data.iloc[i]['pos']] = (data.iloc[i]['entropy'], data.iloc[i]['norm'])\n",
    "surfDic = {} \n",
    "for i in surf['pos'].index:\n",
    "    surfDic[surf.iloc[i]['pos']] = (surf.iloc[i]['surface'])\n",
    "    \n",
    "intrI = intr['inter'] == 'I'\n",
    "inter = set(intr[intrI]['pos'])\n",
    "\n",
    "surfHist = tuple(dataDic[i][0] for i in surfDic if surfDic[i] == 1 and i in dataDic and i not in inter)\n",
    "coreHist = tuple(dataDic[i][0] for i in surfDic if surfDic[i] == 0 and i in dataDic and i not in inter)\n",
    "intrHist = tuple(dataDic[i][0] for i in surfDic if i in inter)\n",
    "\n",
    "plt.hist(surfHist, label='surface', alpha=1)\n",
    "plt.hist(coreHist, label='core', alpha=0.75)\n",
    "plt.hist(intrHist, label='interface', alpha=0.5)\n",
    "plt.legend()\n",
    "plt.xlabel('Shannon')\n",
    "plt.show()\n",
    "plt.boxplot(surfHist, positions=[1.2])\n",
    "plt.boxplot(coreHist)\n",
    "plt.boxplot(intrHist, positions=[0.8])"
   ]
  },
  {
   "cell_type": "markdown",
   "metadata": {},
   "source": [
    "# P54784"
   ]
  },
  {
   "cell_type": "code",
   "execution_count": 44,
   "metadata": {},
   "outputs": [
    {
     "data": {
      "image/png": "[encoded data removed]",
      "text/plain": [
       "<Figure size 432x288 with 1 Axes>"
      ]
     },
     "metadata": {},
     "output_type": "display_data"
    },
    {
     "data": {
      "text/plain": [
       "(0.4, 1.6)"
      ]
     },
     "execution_count": 44,
     "metadata": {},
     "output_type": "execute_result"
    },
    {
     "data": {
      "image/png": "[encoded data removed]",
      "text/plain": [
       "<Figure size 432x288 with 1 Axes>"
      ]
     },
     "metadata": {},
     "output_type": "display_data"
    }
   ],
   "source": [
    "code = 'P54784'\n",
    "pdb='1zhi_A'\n",
    "shan = pd.read_table('../Data/Heteromers/'+code+'.shannon')\n",
    "rate = pd.read_table('../Data/Heteromers/'+code+'.rate')\n",
    "data = pd.concat([shan, rate], axis=1)\n",
    "\n",
    "main = readFasta('../Data/Heteromers/P54784.fasta')\n",
    "sele = readFasta('../Data/Heteromers/surface/1zhi_A.fasta')\n",
    "\n",
    "surf = pd.read_table('../Data/Heteromers/surface/1zhi_A.surf')\n",
    "\n",
    "intr = pd.read_table('../Data/Heteromers/out_1zhi_inter/molecule_1.txt', sep=' ', header=-1, names=['aa', 'pos', 'inter'])\n",
    "\n",
    "dataDic = {}\n",
    "for i in data['pos'].index:\n",
    "    dataDic[data.iloc[i]['pos']] = (data.iloc[i]['entropy'], data.iloc[i]['norm'])\n",
    "surfDic = {} \n",
    "for i in surf['pos'].index:\n",
    "    surfDic[surf.iloc[i]['pos']] = (surf.iloc[i]['surface'])\n",
    "    \n",
    "intrI = intr['inter'] == 'I'\n",
    "inter = set(intr[intrI]['pos'])\n",
    "\n",
    "surfHist = tuple(dataDic[i][0] for i in surfDic if surfDic[i] == 1 and i in dataDic and i not in inter)\n",
    "coreHist = tuple(dataDic[i][0] for i in surfDic if surfDic[i] == 0 and i in dataDic and i not in inter)\n",
    "intrHist = tuple(dataDic[i][0] for i in surfDic if i in inter)\n",
    "\n",
    "plt.hist(surfHist, label='surface', alpha=1)\n",
    "plt.hist(coreHist, label='core', alpha=0.75)\n",
    "plt.hist(intrHist, label='interface', alpha=0.5)\n",
    "plt.legend()\n",
    "plt.xlabel('Shannon')\n",
    "plt.show()\n",
    "\n",
    "plt.boxplot(surfHist, positions=[1.2])\n",
    "plt.boxplot(coreHist, positions=[1])\n",
    "plt.boxplot(intrHist, positions=[0.8])\n",
    "plt.xlim((0.4, 1.6))"
   ]
  },
  {
   "cell_type": "markdown",
   "metadata": {},
   "source": [
    "# P68871"
   ]
  },
  {
   "cell_type": "markdown",
   "metadata": {},
   "source": [
    "# P01588"
   ]
  },
  {
   "cell_type": "code",
   "execution_count": 34,
   "metadata": {},
   "outputs": [
    {
     "data": {
      "image/png": "[encoded data removed]",
      "text/plain": [
       "<Figure size 432x288 with 1 Axes>"
      ]
     },
     "metadata": {},
     "output_type": "display_data"
    },
    {
     "data": {
      "text/plain": [
       "(0.4, 1.6)"
      ]
     },
     "execution_count": 34,
     "metadata": {},
     "output_type": "execute_result"
    },
    {
     "data": {
      "image/png": "[encoded data removed]",
      "text/plain": [
       "<Figure size 432x288 with 1 Axes>"
      ]
     },
     "metadata": {},
     "output_type": "display_data"
    }
   ],
   "source": [
    "code = 'P01588'\n",
    "pdb='1eer_A'\n",
    "shan = pd.read_table('../Data/Heteromers/'+code+'.shannon')\n",
    "rate = pd.read_table('../Data/Heteromers/'+code+'.rate')\n",
    "data = pd.concat([shan, rate], axis=1)\n",
    "\n",
    "main = readFasta('../Data/Heteromers/P01588.fasta')\n",
    "sele = readFasta('../Data/Heteromers/surface/1eer_A.fasta')\n",
    "\n",
    "surf = pd.read_table('../Data/Heteromers/surface/1eer_A.surf')\n",
    "\n",
    "intr = pd.read_table('../Data/Heteromers/out_1eer_interB/molecule_1.txt', sep=' ', header=-1, names=['aa', 'pos', 'inter'])\n",
    "intr2 = pd.read_table('../Data/Heteromers/out_1eer_interC/molecule_1.txt', sep=' ', header=-1, names=['aa', 'pos', 'inter'])\n",
    "\n",
    "dataDic = {}\n",
    "for i in data['pos'].index:\n",
    "    dataDic[data.iloc[i]['pos']] = (data.iloc[i]['entropy'], data.iloc[i]['norm'])\n",
    "surfDic = {} \n",
    "for i in surf['pos'].index:\n",
    "    surfDic[surf.iloc[i]['pos']] = (surf.iloc[i]['surface'])\n",
    "    \n",
    "intrI = intr['inter'] == 'I'\n",
    "inter1 = set(intr[intrI]['pos'])\n",
    "\n",
    "intrI2 = intr2['inter'] == 'I'\n",
    "inter2 = set(intr2[intrI2]['pos'])\n",
    "\n",
    "surfHist = tuple(dataDic[i][0] for i in surfDic if surfDic[i] == 1 and i in dataDic and i not in inter1 and i not in inter2)\n",
    "coreHist = tuple(dataDic[i][0] for i in surfDic if surfDic[i] == 0 and i in dataDic and i not in inter1 and i not in inter2)\n",
    "intrHist = tuple(dataDic[i][0] for i in surfDic if i in inter1 or i in inter2)\n",
    "\n",
    "plt.hist(surfHist, label='surface', alpha=1)\n",
    "plt.hist(coreHist, label='core', alpha=0.75)\n",
    "plt.hist(intrHist, label='interface', alpha=0.5)\n",
    "plt.legend()\n",
    "plt.xlabel('Shannon')\n",
    "plt.show()\n",
    "\n",
    "plt.boxplot(surfHist, positions=[1.2])\n",
    "plt.boxplot(coreHist, positions=[1])\n",
    "plt.boxplot(intrHist, positions=[0.8])\n",
    "plt.xlim((0.4, 1.6))"
   ]
  },
  {
   "cell_type": "markdown",
   "metadata": {},
   "source": [
    "# P13804"
   ]
  },
  {
   "cell_type": "code",
   "execution_count": 88,
   "metadata": {},
   "outputs": [
    {
     "data": {
      "image/png": "[encoded data removed]",
      "text/plain": [
       "<Figure size 432x288 with 1 Axes>"
      ]
     },
     "metadata": {},
     "output_type": "display_data"
    },
    {
     "data": {
      "text/plain": [
       "(0.4, 1.6)"
      ]
     },
     "execution_count": 88,
     "metadata": {},
     "output_type": "execute_result"
    },
    {
     "data": {
      "image/png": "[encoded data removed]",
      "text/plain": [
       "<Figure size 432x288 with 1 Axes>"
      ]
     },
     "metadata": {},
     "output_type": "display_data"
    }
   ],
   "source": [
    "code = 'P13804'\n",
    "pdb='1efv_A'\n",
    "shan = pd.read_table('../Data/Heteromers/'+code+'.shannon')\n",
    "rate = pd.read_table('../Data/Heteromers/'+code+'.rate')\n",
    "data = pd.concat([shan, rate], axis=1)\n",
    "\n",
    "\n",
    "surf = pd.read_table('../Data/Heteromers/surface/1efv_A.surf')\n",
    "\n",
    "intr = pd.read_table('../Data/Heteromers/out_1EFV_inter/molecule_1.txt', sep=' ', header=-1, names=['aa', 'pos', 'inter'])\n",
    "\n",
    "dataDic = {}\n",
    "for i in data['pos'].index:\n",
    "    dataDic[data.iloc[i]['pos']] = (data.iloc[i]['entropy'], data.iloc[i]['norm'])\n",
    "surfDic = {} \n",
    "for i in surf['pos'].index:\n",
    "    surfDic[surf.iloc[i]['pos']] = (surf.iloc[i]['surface'])\n",
    "    \n",
    "intrI = intr['inter'] == 'I'\n",
    "inter = set(intr[intrI]['pos'])\n",
    "\n",
    "surfHist = tuple(dataDic[i][0] for i in surfDic if surfDic[i] == 1 and i in dataDic and i not in inter)\n",
    "coreHist = tuple(dataDic[i][0] for i in surfDic if surfDic[i] == 0 and i in dataDic and i not in inter)\n",
    "intrHist = tuple(dataDic[i][0] for i in surfDic if i in inter)\n",
    "\n",
    "plt.hist(surfHist, label='surface', alpha=1)\n",
    "plt.hist(coreHist, label='core', alpha=0.75)\n",
    "plt.hist(intrHist, label='interface', alpha=0.5)\n",
    "plt.legend()\n",
    "plt.xlabel('Shannon')\n",
    "plt.show()\n",
    "\n",
    "plt.boxplot(surfHist, positions=[1.2])\n",
    "plt.boxplot(coreHist, positions=[1])\n",
    "plt.boxplot(intrHist, positions=[0.8])\n",
    "plt.xlim((0.4, 1.6))"
   ]
  },
  {
   "cell_type": "markdown",
   "metadata": {},
   "source": [
    "# PoA6t9"
   ]
  },
  {
   "cell_type": "code",
   "execution_count": 96,
   "metadata": {},
   "outputs": [
    {
     "data": {
      "image/png": "[encoded data removed]",
      "text/plain": [
       "<Figure size 432x288 with 1 Axes>"
      ]
     },
     "metadata": {},
     "output_type": "display_data"
    },
    {
     "data": {
      "text/plain": [
       "(0.4, 1.6)"
      ]
     },
     "execution_count": 96,
     "metadata": {},
     "output_type": "execute_result"
    },
    {
     "data": {
      "image/png": "[encoded data removed]",
      "text/plain": [
       "<Figure size 432x288 with 1 Axes>"
      ]
     },
     "metadata": {},
     "output_type": "display_data"
    }
   ],
   "source": [
    "code = 'P0A6T9'\n",
    "pdb='1efv_A'\n",
    "shan = pd.read_table('../Data/Heteromers/'+code+'.shannon')\n",
    "rate = pd.read_table('../Data/Heteromers/'+code+'.rate')\n",
    "data = pd.concat([shan, rate], axis=1)\n",
    "\n",
    "surf = pd.read_table('../Data/Heteromers/surface/1efv_A.surf')\n",
    "\n",
    "intr = pd.read_table('../Data/Heteromers/out_1EFV_inter/molecule_1.txt', sep=' ', header=-1, names=['aa', 'pos', 'inter'])\n",
    "    \n",
    "dataDic = {}\n",
    "for i in data['pos'].index:\n",
    "    dataDic[data.iloc[i]['pos']] = (data.iloc[i]['entropy'], data.iloc[i]['norm'])\n",
    "surfDic = {} \n",
    "for i in surf['pos'].index:\n",
    "    surfDic[surf.iloc[i]['pos']] = (surf.iloc[i]['surface'])\n",
    "    \n",
    "intrI = intr['inter'] == 'I'\n",
    "inter = set(intr[intrI]['pos'])\n",
    "\n",
    "surfHist = tuple(dataDic[i][0] for i in surfDic if surfDic[i] == 1 and i in dataDic and i not in inter)\n",
    "coreHist = tuple(dataDic[i][0] for i in surfDic if surfDic[i] == 0 and i in dataDic and i not in inter)\n",
    "intrHist = tuple(dataDic[i][0] for i in surfDic if i in inter and i in dataDic)\n",
    "\n",
    "plt.hist(surfHist, label='surface', alpha=1)\n",
    "plt.hist(coreHist, label='core', alpha=0.75)\n",
    "plt.hist(intrHist, label='interface', alpha=0.5)\n",
    "plt.legend()\n",
    "plt.xlabel('Shannon')\n",
    "plt.show()\n",
    "\n",
    "plt.boxplot(surfHist, positions=[1.2])\n",
    "plt.boxplot(coreHist, positions=[1])\n",
    "plt.boxplot(intrHist, positions=[0.8])\n",
    "plt.xlim((0.4, 1.6))"
   ]
  },
  {
   "cell_type": "markdown",
   "metadata": {},
   "source": [
    "# G5ECF1 "
   ]
  },
  {
   "cell_type": "code",
   "execution_count": 37,
   "metadata": {},
   "outputs": [
    {
     "data": {
      "image/png": "[encoded data removed]",
      "text/plain": [
       "<Figure size 432x288 with 1 Axes>"
      ]
     },
     "metadata": {},
     "output_type": "display_data"
    },
    {
     "data": {
      "text/plain": [
       "(0.4, 1.6)"
      ]
     },
     "execution_count": 37,
     "metadata": {},
     "output_type": "execute_result"
    },
    {
     "data": {
      "image/png": "[encoded data removed]",
      "text/plain": [
       "<Figure size 432x288 with 1 Axes>"
      ]
     },
     "metadata": {},
     "output_type": "display_data"
    }
   ],
   "source": [
    "code = 'G5ECF1'\n",
    "pdb='3zhe_A'\n",
    "shan = pd.read_table('../Data/Heteromers/'+code+'.shannon')\n",
    "rate = pd.read_table('../Data/Heteromers/'+code+'.rate')\n",
    "data = pd.concat([shan, rate], axis=1)\n",
    "\n",
    "main = readFasta('../Data/Heteromers/G5ECF1.fasta')\n",
    "sele = readFasta('../Data/Heteromers/surface/3zhe_A.fasta')\n",
    "\n",
    "surf = pd.read_table('../Data/Heteromers/surface/3zhe_A.surf')\n",
    "\n",
    "intr = pd.read_table('../Data/Heteromers/out_3zhe_interB/molecule_1.txt', sep=' ', header=-1, names=['aa', 'pos', 'inter'])\n",
    "intr2 = pd.read_table('../Data/Heteromers/out_3zhe_interD/molecule_1.txt', sep=' ', header=-1, names=['aa', 'pos', 'inter'])\n",
    "\n",
    "dataDic = {}\n",
    "for i in data['pos'].index:\n",
    "    dataDic[data.iloc[i]['pos']] = (data.iloc[i]['entropy'], data.iloc[i]['norm'])\n",
    "surfDic = {} \n",
    "for i in surf['pos'].index:\n",
    "    surfDic[surf.iloc[i]['pos']] = (surf.iloc[i]['surface'])\n",
    "    \n",
    "intrI = intr['inter'] == 'I'\n",
    "inter1 = set(intr[intrI]['pos'])\n",
    "\n",
    "intrI2 = intr2['inter'] == 'I'\n",
    "inter2 = set(intr2[intrI2]['pos'])\n",
    "\n",
    "surfHist = tuple(dataDic[i][0] for i in surfDic if surfDic[i] == 1 and i in dataDic and i not in inter1 and i not in inter2)\n",
    "coreHist = tuple(dataDic[i][0] for i in surfDic if surfDic[i] == 0 and i in dataDic and i not in inter1 and i not in inter2)\n",
    "intrHist = tuple(dataDic[i][0] for i in surfDic if i in inter1 or i in inter2)\n",
    "\n",
    "plt.hist(surfHist, label='surface', alpha=1)\n",
    "plt.hist(coreHist, label='core', alpha=0.75)\n",
    "plt.hist(intrHist, label='interface', alpha=0.5)\n",
    "plt.legend()\n",
    "plt.xlabel('Shannon')\n",
    "plt.show()\n",
    "\n",
    "plt.boxplot(surfHist, positions=[1.2])\n",
    "plt.boxplot(coreHist, positions=[1])\n",
    "plt.boxplot(intrHist, positions=[0.8])\n",
    "plt.xlim((0.4, 1.6))"
   ]
  },
  {
   "cell_type": "code",
   "execution_count": 324,
   "metadata": {},
   "outputs": [
    {
     "data": {
      "text/html": [
       "<div>\n",
       "<style scoped>\n",
       "    .dataframe tbody tr th:only-of-type {\n",
       "        vertical-align: middle;\n",
       "    }\n",
       "\n",
       "    .dataframe tbody tr th {\n",
       "        vertical-align: top;\n",
       "    }\n",
       "\n",
       "    .dataframe thead th {\n",
       "        text-align: right;\n",
       "    }\n",
       "</style>\n",
       "<table border=\"1\" class=\"dataframe\">\n",
       "  <thead>\n",
       "    <tr style=\"text-align: right;\">\n",
       "      <th></th>\n",
       "      <th>pos</th>\n",
       "      <th>entropy</th>\n",
       "      <th>cons</th>\n",
       "      <th>rad</th>\n",
       "      <th>ratio</th>\n",
       "      <th>norm</th>\n",
       "    </tr>\n",
       "  </thead>\n",
       "  <tbody>\n",
       "    <tr>\n",
       "      <th>0</th>\n",
       "      <td>1</td>\n",
       "      <td>0.693147</td>\n",
       "      <td>253</td>\n",
       "      <td>0</td>\n",
       "      <td>0.000000</td>\n",
       "      <td>-1.000000</td>\n",
       "    </tr>\n",
       "    <tr>\n",
       "      <th>1</th>\n",
       "      <td>2</td>\n",
       "      <td>0.792285</td>\n",
       "      <td>28</td>\n",
       "      <td>8</td>\n",
       "      <td>3.500000</td>\n",
       "      <td>0.284205</td>\n",
       "    </tr>\n",
       "    <tr>\n",
       "      <th>2</th>\n",
       "      <td>3</td>\n",
       "      <td>0.942664</td>\n",
       "      <td>37</td>\n",
       "      <td>18</td>\n",
       "      <td>2.055556</td>\n",
       "      <td>-0.245784</td>\n",
       "    </tr>\n",
       "    <tr>\n",
       "      <th>3</th>\n",
       "      <td>4</td>\n",
       "      <td>1.048767</td>\n",
       "      <td>55</td>\n",
       "      <td>11</td>\n",
       "      <td>5.000000</td>\n",
       "      <td>0.834579</td>\n",
       "    </tr>\n",
       "    <tr>\n",
       "      <th>4</th>\n",
       "      <td>5</td>\n",
       "      <td>1.200318</td>\n",
       "      <td>81</td>\n",
       "      <td>39</td>\n",
       "      <td>2.076923</td>\n",
       "      <td>-0.237944</td>\n",
       "    </tr>\n",
       "  </tbody>\n",
       "</table>\n",
       "</div>"
      ],
      "text/plain": [
       "   pos   entropy  cons  rad     ratio      norm\n",
       "0    1  0.693147   253    0  0.000000 -1.000000\n",
       "1    2  0.792285    28    8  3.500000  0.284205\n",
       "2    3  0.942664    37   18  2.055556 -0.245784\n",
       "3    4  1.048767    55   11  5.000000  0.834579\n",
       "4    5  1.200318    81   39  2.076923 -0.237944"
      ]
     },
     "execution_count": 324,
     "metadata": {},
     "output_type": "execute_result"
    }
   ],
   "source": [
    "\n",
    "data.head()"
   ]
  },
  {
   "cell_type": "code",
   "execution_count": null,
   "metadata": {},
   "outputs": [],
   "source": []
  },
  {
   "cell_type": "code",
   "execution_count": 326,
   "metadata": {},
   "outputs": [
    {
     "name": "stdout",
     "output_type": "stream",
     "text": [
      "\u001b[0m\u001b[01;32m1eer_A.fasta\u001b[0m*  \u001b[01;32m1efv_A.surf\u001b[0m*   \u001b[01;32m2e0x_A.pdb\u001b[0m*    \u001b[01;32m3peu_A.fasta\u001b[0m*  \u001b[01;32m3zhe_A.surf\u001b[0m*\n",
      "\u001b[01;32m1eer_A.pdb\u001b[0m*    \u001b[01;32m1zhi_A.fasta\u001b[0m*  \u001b[01;32m2e0x_A.surf\u001b[0m*   \u001b[01;32m3peu_A.pdb\u001b[0m*\n",
      "\u001b[01;32m1eer_A.surf\u001b[0m*   \u001b[01;32m1zhi_A.pdb\u001b[0m*    \u001b[01;32m3a7a_B.fasta\u001b[0m*  \u001b[01;32m3peu_A.surf\u001b[0m*\n",
      "\u001b[01;32m1efv_A.fasta\u001b[0m*  \u001b[01;32m1zhi_A.surf\u001b[0m*   \u001b[01;32m3a7a_B.pdb\u001b[0m*    \u001b[01;32m3zhe_A.fasta\u001b[0m*\n",
      "\u001b[01;32m1efv_A.pdb\u001b[0m*    \u001b[01;32m2e0x_A.fasta\u001b[0m*  \u001b[01;32m3a7a_B.surf\u001b[0m*   \u001b[01;32m3zhe_A.pdb\u001b[0m*\n"
     ]
    }
   ],
   "source": [
    "ls ../Data/Heteromers/surface/"
   ]
  },
  {
   "cell_type": "code",
   "execution_count": 327,
   "metadata": {},
   "outputs": [],
   "source": [
    "main = readFasta('../Data/Heteromers/'+code+'.fasta')\n",
    "sele = readFasta('../Data/Heteromers/surface/'+pdb+'.fasta')"
   ]
  },
  {
   "cell_type": "code",
   "execution_count": 328,
   "metadata": {},
   "outputs": [
    {
     "data": {
      "text/plain": [
       "'MQKSDEVTEKFKRYCNQLEKYGQTENVHSPVMAMLRRKGRKQLIEIMKRDGDCTSSINKLWIVGYYHPFQFFIRDKEKNMAIAVLLTMFCGELQEMLSLPDDKYPALWNMYIGDFHRYMPDEEIQKCLAVGYYSRAIDLDPNQGRAFHVLAGLRADLNVAQKLRLMILGQLADAPYKKGTELLEYLKFPQKESTDKLMVDFVIWALNEKSKRMDYQMTGIKIVNEFKAEIEQKLEFDWSLIMSTCRLASKLAMKKFGFQQFYNCFDTISTLYITIYSRTISSKCLLAEAISWISDSAEILGHLDEQKNEPHFQKLSVFAKTKWNELNDLVMNHINSVFTSMSLTINPSISMTSFLLNGPISEPNVEFLSQLINYLVSVEFPPMEIIHDREESGPLLRRINQSEQKRLDIQIKTQNDEVNREDWRPVYVLMDYDVIVDKIRIALKIWDIDDFICILPSTVLDELDYQKTKNRAVRPVIRALMELQAEGKIVLKKCDNERSCAEQLVQSARRSAEDHKHIVAFLCKNPSEQKEMEGVTFYDIDQFYMKYLE'"
      ]
     },
     "execution_count": 328,
     "metadata": {},
     "output_type": "execute_result"
    }
   ],
   "source": [
    "main"
   ]
  },
  {
   "cell_type": "code",
   "execution_count": 329,
   "metadata": {},
   "outputs": [],
   "source": [
    "def findSeq(query, seq):\n",
    "    pos = seq.find(query[:10])\n",
    "    return pos"
   ]
  },
  {
   "cell_type": "code",
   "execution_count": 330,
   "metadata": {},
   "outputs": [
    {
     "data": {
      "text/plain": [
       "1"
      ]
     },
     "execution_count": 330,
     "metadata": {},
     "output_type": "execute_result"
    }
   ],
   "source": [
    "findSeq(sele, main)"
   ]
  },
  {
   "cell_type": "code",
   "execution_count": 331,
   "metadata": {},
   "outputs": [
    {
     "data": {
      "text/html": [
       "<div>\n",
       "<style scoped>\n",
       "    .dataframe tbody tr th:only-of-type {\n",
       "        vertical-align: middle;\n",
       "    }\n",
       "\n",
       "    .dataframe tbody tr th {\n",
       "        vertical-align: top;\n",
       "    }\n",
       "\n",
       "    .dataframe thead th {\n",
       "        text-align: right;\n",
       "    }\n",
       "</style>\n",
       "<table border=\"1\" class=\"dataframe\">\n",
       "  <thead>\n",
       "    <tr style=\"text-align: right;\">\n",
       "      <th></th>\n",
       "      <th>aa</th>\n",
       "      <th>pos</th>\n",
       "      <th>surface</th>\n",
       "    </tr>\n",
       "  </thead>\n",
       "  <tbody>\n",
       "    <tr>\n",
       "      <th>0</th>\n",
       "      <td>PHE</td>\n",
       "      <td>312</td>\n",
       "      <td>1</td>\n",
       "    </tr>\n",
       "    <tr>\n",
       "      <th>1</th>\n",
       "      <td>ASP</td>\n",
       "      <td>214</td>\n",
       "      <td>1</td>\n",
       "    </tr>\n",
       "    <tr>\n",
       "      <th>2</th>\n",
       "      <td>SER</td>\n",
       "      <td>243</td>\n",
       "      <td>0</td>\n",
       "    </tr>\n",
       "    <tr>\n",
       "      <th>3</th>\n",
       "      <td>PHE</td>\n",
       "      <td>236</td>\n",
       "      <td>1</td>\n",
       "    </tr>\n",
       "    <tr>\n",
       "      <th>4</th>\n",
       "      <td>GLU</td>\n",
       "      <td>92</td>\n",
       "      <td>1</td>\n",
       "    </tr>\n",
       "  </tbody>\n",
       "</table>\n",
       "</div>"
      ],
      "text/plain": [
       "    aa  pos  surface\n",
       "0  PHE  312        1\n",
       "1  ASP  214        1\n",
       "2  SER  243        0\n",
       "3  PHE  236        1\n",
       "4  GLU   92        1"
      ]
     },
     "execution_count": 331,
     "metadata": {},
     "output_type": "execute_result"
    }
   ],
   "source": [
    "surf = pd.read_table('../Data/Heteromers/surface/'+pdb+'.surf')\n",
    "surf.head()"
   ]
  },
  {
   "cell_type": "code",
   "execution_count": 332,
   "metadata": {},
   "outputs": [],
   "source": [
    "ls ../Data/Heteromers/out_3zhe_interB/\n"
   ]
  },
  {
   "cell_type": "code",
   "execution_count": 337,
   "metadata": {},
   "outputs": [
    {
     "data": {
      "text/html": [
       "<div>\n",
       "<style scoped>\n",
       "    .dataframe tbody tr th:only-of-type {\n",
       "        vertical-align: middle;\n",
       "    }\n",
       "\n",
       "    .dataframe tbody tr th {\n",
       "        vertical-align: top;\n",
       "    }\n",
       "\n",
       "    .dataframe thead th {\n",
       "        text-align: right;\n",
       "    }\n",
       "</style>\n",
       "<table border=\"1\" class=\"dataframe\">\n",
       "  <thead>\n",
       "    <tr style=\"text-align: right;\">\n",
       "      <th></th>\n",
       "      <th>aa</th>\n",
       "      <th>pos</th>\n",
       "      <th>inter</th>\n",
       "    </tr>\n",
       "  </thead>\n",
       "  <tbody>\n",
       "    <tr>\n",
       "      <th>0</th>\n",
       "      <td>A</td>\n",
       "      <td>370</td>\n",
       "      <td>I</td>\n",
       "    </tr>\n",
       "    <tr>\n",
       "      <th>1</th>\n",
       "      <td>A</td>\n",
       "      <td>359</td>\n",
       "      <td>I</td>\n",
       "    </tr>\n",
       "    <tr>\n",
       "      <th>2</th>\n",
       "      <td>A</td>\n",
       "      <td>136</td>\n",
       "      <td>I</td>\n",
       "    </tr>\n",
       "    <tr>\n",
       "      <th>3</th>\n",
       "      <td>A</td>\n",
       "      <td>100</td>\n",
       "      <td>I</td>\n",
       "    </tr>\n",
       "    <tr>\n",
       "      <th>4</th>\n",
       "      <td>A</td>\n",
       "      <td>123</td>\n",
       "      <td>C</td>\n",
       "    </tr>\n",
       "  </tbody>\n",
       "</table>\n",
       "</div>"
      ],
      "text/plain": [
       "  aa  pos inter\n",
       "0  A  370     I\n",
       "1  A  359     I\n",
       "2  A  136     I\n",
       "3  A  100     I\n",
       "4  A  123     C"
      ]
     },
     "execution_count": 337,
     "metadata": {},
     "output_type": "execute_result"
    }
   ],
   "source": [
    "intr = pd.read_table('../Data/Heteromers/out_'+pdb[:4]+'_interB/molecule_1.txt', sep=' ', header=-1, names=['aa', 'pos', 'inter'])\n",
    "intr.head()"
   ]
  },
  {
   "cell_type": "code",
   "execution_count": 338,
   "metadata": {},
   "outputs": [],
   "source": [
    "dataDic = {}\n",
    "for i in data['pos'].index:\n",
    "    dataDic[data.iloc[i]['pos']] = (data.iloc[i]['entropy'], data.iloc[i]['norm'])\n",
    "surfDic = {} \n",
    "for i in surf['pos'].index:\n",
    "    surfDic[surf.iloc[i]['pos']] = (surf.iloc[i]['surface'])"
   ]
  },
  {
   "cell_type": "code",
   "execution_count": 339,
   "metadata": {},
   "outputs": [],
   "source": [
    "intrI = intr['inter'] == 'I'\n",
    "inter = set(intr[intrI]['pos'])"
   ]
  },
  {
   "cell_type": "code",
   "execution_count": null,
   "metadata": {},
   "outputs": [],
   "source": []
  },
  {
   "cell_type": "code",
   "execution_count": 340,
   "metadata": {},
   "outputs": [],
   "source": [
    "surfHist = tuple(dataDic[i][0] for i in surfDic if surfDic[i] == 1 and i in dataDic and i not in inter)\n",
    "coreHist = tuple(dataDic[i][0] for i in surfDic if surfDic[i] == 0 and i in dataDic and i not in inter)\n",
    "intrHist = tuple(dataDic[i][0] for i in surfDic if i in inter)"
   ]
  },
  {
   "cell_type": "code",
   "execution_count": 341,
   "metadata": {},
   "outputs": [
    {
     "data": {
      "text/plain": [
       "Text(0.5,0,'Shannon')"
      ]
     },
     "execution_count": 341,
     "metadata": {},
     "output_type": "execute_result"
    },
    {
     "data": {
      "image/png": "[encoded data removed]",
      "text/plain": [
       "<Figure size 432x288 with 1 Axes>"
      ]
     },
     "metadata": {},
     "output_type": "display_data"
    }
   ],
   "source": [
    "plt.hist(surfHist, label='surface', alpha=1)\n",
    "plt.hist(coreHist, label='core', alpha=0.75)\n",
    "plt.hist(intrHist, label='interface', alpha=0.5)\n",
    "plt.legend()\n",
    "plt.xlabel('Shannon')"
   ]
  },
  {
   "cell_type": "code",
   "execution_count": 349,
   "metadata": {},
   "outputs": [
    {
     "data": {
      "text/plain": [
       "{'boxes': [<matplotlib.lines.Line2D at 0x7fa1c1788b00>],\n",
       " 'caps': [<matplotlib.lines.Line2D at 0x7fa1c178d7b8>,\n",
       "  <matplotlib.lines.Line2D at 0x7fa1c178dbe0>],\n",
       " 'fliers': [<matplotlib.lines.Line2D at 0x7fa1c1792470>],\n",
       " 'means': [],\n",
       " 'medians': [<matplotlib.lines.Line2D at 0x7fa1c178dd30>],\n",
       " 'whiskers': [<matplotlib.lines.Line2D at 0x7fa1c1788f28>,\n",
       "  <matplotlib.lines.Line2D at 0x7fa1c178d390>]}"
      ]
     },
     "execution_count": 349,
     "metadata": {},
     "output_type": "execute_result"
    },
    {
     "data": {
      "image/png": "[encoded data removed]",
      "text/plain": [
       "<Figure size 432x288 with 1 Axes>"
      ]
     },
     "metadata": {},
     "output_type": "display_data"
    }
   ],
   "source": [
    "plt.boxplot(surfHist, positions=[1.2])\n",
    "plt.boxplot(coreHist)\n",
    "plt.boxplot(intrHist, positions=[0.8])"
   ]
  },
  {
   "cell_type": "code",
   "execution_count": null,
   "metadata": {},
   "outputs": [],
   "source": []
  },
  {
   "cell_type": "code",
   "execution_count": null,
   "metadata": {},
   "outputs": [],
   "source": []
  }
 ],
 "metadata": {
  "kernelspec": {
   "display_name": "Python 3",
   "language": "python",
   "name": "python3"
  },
  "language_info": {
   "codemirror_mode": {
    "name": "ipython",
    "version": 3
   },
   "file_extension": ".py",
   "mimetype": "text/x-python",
   "name": "python",
   "nbconvert_exporter": "python",
   "pygments_lexer": "ipython3",
   "version": "3.5.2"
  }
 },
 "nbformat": 4,
 "nbformat_minor": 2
}
