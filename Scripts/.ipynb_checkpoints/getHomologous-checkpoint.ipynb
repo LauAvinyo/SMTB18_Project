{
 "cells": [
  {
   "cell_type": "code",
   "execution_count": 20,
   "metadata": {},
   "outputs": [],
   "source": [
    "import sys\n",
    "import pandas as pd\n",
    "import wget\n",
    "from Bio import Entrez"
   ]
  },
  {
   "cell_type": "code",
   "execution_count": 18,
   "metadata": {},
   "outputs": [
    {
     "name": "stdout",
     "output_type": "stream",
     "text": [
      "['gi', '1272615911', 'pdb', '5YFN', 'A']\n",
      "['gi', '28178825', 'ref', 'NP_005887.2', '']\n",
      "['gi', '311772125', 'pdb', '3MAS', 'B']\n",
      "['gi', '49168486', 'emb', 'CAG38738.1', '']\n",
      "['gi', '62203298', 'gb', 'AAH93020.1', '']\n",
      "['gi', '269914486', 'pdb', '3INM', 'A']\n",
      "['gi', '528082282', 'pdb', '4L04', 'A']\n",
      "['gi', '189053370', 'dbj', 'BAG35175.1', '']\n",
      "['gi', '524935020', 'pdb', '4L03', 'A']\n",
      "['gi', '507043125', 'pdb', '4I3K', 'A']\n"
     ]
    }
   ],
   "source": [
    "with open('blastOut.txt') as f:\n",
    "    for line in f:\n",
    "        line = line.strip()\n",
    "        line = line.split(\"|\")\n",
    "        print(line)\n",
    "        "
   ]
  },
  {
   "cell_type": "code",
   "execution_count": 23,
   "metadata": {},
   "outputs": [],
   "source": [
    "\n",
    "with open('blastOut.txt') as f:\n",
    "    for line in f:\n",
    "        line = line.strip()\n",
    "        line = line.split(\"|\")\n",
    "        if line[2] == 'pdb':\n",
    "            url = \"https://www.rcsb.org/pdb/download/downloadFastaFiles.do?structureIdList=\"+line[3]+\"&compressionType=uncompressed\"\n",
    "            wget.download(url)\n",
    "        else:\n",
    "            Entrez.email= \"laura.avino@alum.esci.upf.edu\"\n",
    "            code = line[3]\n",
    "            handle = Entrez.efetch(db=\"protein\", id=code,rettype=\"fasta\", retmode=\"text\")\n",
    "            ut = open(code+\".fasta\", 'w')\n",
    "            print(handle.read(), file=ut)\n",
    "            ut.close()\n",
    "        "
   ]
  },
  {
   "cell_type": "code",
   "execution_count": null,
   "metadata": {},
   "outputs": [],
   "source": []
  }
 ],
 "metadata": {
  "kernelspec": {
   "display_name": "Python 3",
   "language": "python",
   "name": "python3"
  },
  "language_info": {
   "codemirror_mode": {
    "name": "ipython",
    "version": 3
   },
   "file_extension": ".py",
   "mimetype": "text/x-python",
   "name": "python",
   "nbconvert_exporter": "python",
   "pygments_lexer": "ipython3",
   "version": "3.5.2"
  }
 },
 "nbformat": 4,
 "nbformat_minor": 2
}
