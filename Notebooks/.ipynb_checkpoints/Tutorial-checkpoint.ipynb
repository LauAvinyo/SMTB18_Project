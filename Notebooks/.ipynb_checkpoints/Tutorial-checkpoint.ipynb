{
 "cells": [
  {
   "cell_type": "markdown",
   "metadata": {},
   "source": [
    "# Python Basic Tutorial"
   ]
  },
  {
   "cell_type": "markdown",
   "metadata": {},
   "source": [
    "Hi! Thanks for being in this course! \n",
    "This notebook is the python tutorial. The idea is to go through it and understand what the code is doing at least until dictionaries (classes are sort of more complex concept). You can always comeback to this tutorial. Feel free to add code or comments and commit it to github."
   ]
  },
  {
   "cell_type": "markdown",
   "metadata": {},
   "source": [
    "## Let's do some math"
   ]
  },
  {
   "cell_type": "markdown",
   "metadata": {},
   "source": [
    "The first thing one learn in any programming language is to sum, rest and mainly all sort of mathematical operation."
   ]
  },
  {
   "cell_type": "code",
   "execution_count": 8,
   "metadata": {},
   "outputs": [
    {
     "data": {
      "text/plain": [
       "2"
      ]
     },
     "execution_count": 8,
     "metadata": {},
     "output_type": "execute_result"
    }
   ],
   "source": [
    "# Sum\n",
    "2+2\n",
    "\n",
    "# Difference\n",
    "3-1"
   ]
  },
  {
   "cell_type": "markdown",
   "metadata": {},
   "source": [
    "Note that only the second value is shown. We are losing the 2+2 result, and we may not want to lose the result of such as complicated sum. To save them we can use variables:"
   ]
  },
  {
   "cell_type": "code",
   "execution_count": 13,
   "metadata": {},
   "outputs": [],
   "source": [
    "sum_result = 6+4  # sum\n",
    "dif_result = 6-4  # difference\n",
    "mul_result = 6*4  # multiplication\n",
    "div_result = 6/4  # division\n",
    "rem_result = 6%4  # remainder of the division\n",
    "den_reuslt = 6//4 # integer division"
   ]
  },
  {
   "cell_type": "markdown",
   "metadata": {},
   "source": [
    "OK. That is better, but, we may want to see which is the result! To do so, lets print them on the screen."
   ]
  },
  {
   "cell_type": "code",
   "execution_count": 14,
   "metadata": {},
   "outputs": [
    {
     "name": "stdout",
     "output_type": "stream",
     "text": [
      "10\n",
      "2 24 1.5 2 1\n"
     ]
    }
   ],
   "source": [
    "print(sum_result) # print one number\n",
    "print(dif_result, mul_result, div_result, rem_result, den_reuslt) # print some number"
   ]
  },
  {
   "cell_type": "markdown",
   "metadata": {},
   "source": [
    "We can do operations using the variables as well, for instance:"
   ]
  },
  {
   "cell_type": "code",
   "execution_count": 16,
   "metadata": {},
   "outputs": [
    {
     "name": "stdout",
     "output_type": "stream",
     "text": [
      "1.5\n"
     ]
    }
   ],
   "source": [
    "check_result = rem_result / 4 + den_reuslt\n",
    "print(check_result)"
   ]
  },
  {
   "cell_type": "markdown",
   "metadata": {},
   "source": [
    "And now we may want to actually check if the check variable is has the same value than the `div_reuslt`. To do so, we can use equals, grater than, lower than... And we will get boolean reuslt ie. `True` or `False`."
   ]
  },
  {
   "cell_type": "code",
   "execution_count": 17,
   "metadata": {},
   "outputs": [
    {
     "data": {
      "text/plain": [
       "True"
      ]
     },
     "execution_count": 17,
     "metadata": {},
     "output_type": "execute_result"
    }
   ],
   "source": [
    "check_result == div_result"
   ]
  },
  {
   "cell_type": "code",
   "execution_count": 21,
   "metadata": {},
   "outputs": [
    {
     "name": "stdout",
     "output_type": "stream",
     "text": [
      "True False\n"
     ]
    }
   ],
   "source": [
    "mulHighSum = mul_result > sum_result\n",
    "mulLowEqualDiv = mul_result <= div_result\n",
    "print(mulHighSum, mulLowEqualDiv)"
   ]
  },
  {
   "cell_type": "markdown",
   "metadata": {},
   "source": [
    "## Let's play with words"
   ]
  },
  {
   "cell_type": "markdown",
   "metadata": {},
   "source": [
    "We can also use words and text in python, they are call strings. For instance,"
   ]
  },
  {
   "cell_type": "code",
   "execution_count": 32,
   "metadata": {},
   "outputs": [],
   "source": [
    "# This a character\n",
    "'a'\n",
    "\n",
    "# This is also a character\n",
    "' '\n",
    "\n",
    "# And this! See the difference with 8 (indeed you can check they are different with ==)\n",
    "'8'\n",
    "\n",
    "# This a string (that is a bunch of characters one after the other)\n",
    "'Hello World! Maybe I should use other sentence to show this...'\n",
    "\n",
    "# This is also a string\n",
    "\"Hello World! Maybe I should use other sentence to show this...\"\n",
    "\n",
    "# Variables can have string assigned to it:\n",
    "superCoolString = \"supercalifragillisticoespialidoso\"\n",
    "\n",
    "# And BTW, this (yes, this) is a comment!"
   ]
  },
  {
   "cell_type": "markdown",
   "metadata": {},
   "source": [
    "And we can do opertions with it! However we cannot mix with numbers"
   ]
  },
  {
   "cell_type": "code",
   "execution_count": 28,
   "metadata": {},
   "outputs": [
    {
     "name": "stdout",
     "output_type": "stream",
     "text": [
      "This is a string that look like a number but it is not: 8\n"
     ]
    }
   ],
   "source": [
    "sum_string = \"This is a string that look like a number but it is not: \" + '8'\n",
    "print(sum_string)"
   ]
  },
  {
   "cell_type": "code",
   "execution_count": 29,
   "metadata": {},
   "outputs": [
    {
     "ename": "TypeError",
     "evalue": "Can't convert 'int' object to str implicitly",
     "output_type": "error",
     "traceback": [
      "\u001b[0;31m---------------------------------------------------------------------------\u001b[0m",
      "\u001b[0;31mTypeError\u001b[0m                                 Traceback (most recent call last)",
      "\u001b[0;32m<ipython-input-29-71f7a6d18846>\u001b[0m in \u001b[0;36m<module>\u001b[0;34m()\u001b[0m\n\u001b[1;32m      1\u001b[0m \u001b[0;31m### This gonna show an error\u001b[0m\u001b[0;34m\u001b[0m\u001b[0;34m\u001b[0m\u001b[0m\n\u001b[0;32m----> 2\u001b[0;31m \u001b[0;34m\"This is a string that look like a number but it is not: \"\u001b[0m \u001b[0;34m+\u001b[0m \u001b[0;36m8\u001b[0m\u001b[0;34m\u001b[0m\u001b[0m\n\u001b[0m",
      "\u001b[0;31mTypeError\u001b[0m: Can't convert 'int' object to str implicitly"
     ]
    }
   ],
   "source": [
    "### This gonna show an error\n",
    "\"This is a string that look like a number but it is not: \" + 8"
   ]
  },
  {
   "cell_type": "markdown",
   "metadata": {},
   "source": [
    "But, we can solve it. "
   ]
  },
  {
   "cell_type": "code",
   "execution_count": 31,
   "metadata": {},
   "outputs": [
    {
     "data": {
      "text/plain": [
       "14.4"
      ]
     },
     "execution_count": 31,
     "metadata": {},
     "output_type": "execute_result"
    }
   ],
   "source": [
    "\"This is a string that look like a number but it is not: \" + str(8)\n",
    "\n",
    "# Also, \n",
    "int('3') + float('3.4') + 8\n",
    "# Note the difference with float and int!!!-Ç"
   ]
  },
  {
   "cell_type": "markdown",
   "metadata": {},
   "source": [
    "## Lists and Tuples"
   ]
  },
  {
   "cell_type": "markdown",
   "metadata": {},
   "source": [
    "We may want to have groups of thinks in a given order. For instance: 1,2,3,4 or blue, green, red.  To represent this in python we can use:\n",
    "  - Tuples: they are fix, so once you assignthem can not change it\n",
    "  - List: you can modify them as you wish\n",
    "  \n",
    "There a lot of functions already implemented in pthon to do with lists, like sorting, reversing... \n",
    "Just google how to do whatever you want!\n",
    "\n",
    "Oh! Indeed words are just list of letter or characters! So we can also loop through them!"
   ]
  },
  {
   "cell_type": "code",
   "execution_count": 10,
   "metadata": {},
   "outputs": [],
   "source": [
    "a = (1, 4, 5) # this is a tuple\n",
    "b = [1, 6, 3] # this is a list"
   ]
  },
  {
   "cell_type": "markdown",
   "metadata": {},
   "source": [
    "We can iterate through both using `for` loops!"
   ]
  },
  {
   "cell_type": "code",
   "execution_count": 11,
   "metadata": {},
   "outputs": [
    {
     "name": "stdout",
     "output_type": "stream",
     "text": [
      "This is the tuple: 1 4 5 \n",
      "This is the list: 1 6 3 "
     ]
    }
   ],
   "source": [
    "print('This is the tuple:', end=' ')\n",
    "for t in a:\n",
    "    print(t, end=' ')\n",
    "\n",
    "print()\n",
    "print('This is the list: ', end='')\n",
    "for l in b:\n",
    "    print(l, end=' ')"
   ]
  },
  {
   "cell_type": "markdown",
   "metadata": {},
   "source": [
    "Also, we can index each element:"
   ]
  },
  {
   "cell_type": "code",
   "execution_count": 12,
   "metadata": {},
   "outputs": [
    {
     "name": "stdout",
     "output_type": "stream",
     "text": [
      "1\n",
      "6\n",
      "5\n",
      "4\n"
     ]
    }
   ],
   "source": [
    "print(a[0]) # This is the first element\n",
    "print(b[1]) # This is the second\n",
    "print(a[-1]) # This is the last one\n",
    "print(a[-2]) # The one before the last"
   ]
  },
  {
   "cell_type": "markdown",
   "metadata": {},
   "source": [
    "## Dictionaries"
   ]
  },
  {
   "cell_type": "markdown",
   "metadata": {},
   "source": [
    "Dictionaries are one of the most beautiful data structures out there! They have a set of keys and set of values. Each value is assing to a key! "
   ]
  },
  {
   "cell_type": "code",
   "execution_count": 13,
   "metadata": {},
   "outputs": [],
   "source": [
    "superheros = {}\n",
    "\n",
    "# We assign values to keys this way\n",
    "superheros['superman']  = \"Clark Kent\"\n",
    "superheros['spiderman'] = \"Peter Parker\"\n",
    "superheros['batman'] = \"Bruce Wayne\""
   ]
  },
  {
   "cell_type": "code",
   "execution_count": 15,
   "metadata": {},
   "outputs": [
    {
     "name": "stdout",
     "output_type": "stream",
     "text": [
      "The name of batman is Bruce Wayne !!\n"
     ]
    }
   ],
   "source": [
    "hero = \"batman\"\n",
    "print(\"The name of\", hero, \"is\", superheros[hero], '!!')"
   ]
  },
  {
   "cell_type": "markdown",
   "metadata": {},
   "source": [
    "## Classes"
   ]
  },
  {
   "cell_type": "markdown",
   "metadata": {},
   "source": [
    "This is a complex concept, related with Object Oriented Programming. I could try to explain what I underestand but OOP, however, no one would agree with me! So, I would recomend you to surfer the internet and see some discusions. Also, OOP allow you to do inheritance, encapsulation..."
   ]
  },
  {
   "cell_type": "markdown",
   "metadata": {},
   "source": [
    "But, keeping think simple:\n",
    "Classes are templates of objects. Perhaps you know about Platon ideas. You have a perfect idea of something, let's say a dog, and you materialize it to do a real horse (you create an instance). "
   ]
  },
  {
   "cell_type": "code",
   "execution_count": 35,
   "metadata": {},
   "outputs": [],
   "source": [
    "class dog():\n",
    "    def __init__(self):\n",
    "        # Classes have attributes\n",
    "        # Like the name or the dog race\n",
    "        self._name = 'Dog'\n",
    "    \n",
    "    # And methods (actions) like\n",
    "    # walking or barking\n",
    "    def walk(self):\n",
    "        print('I am moving!')\n",
    "        \n",
    "    def bark(self):\n",
    "        print('Buf buf')\n",
    "    \n",
    "    def name(self):\n",
    "        print(self._name)\n",
    "    "
   ]
  },
  {
   "cell_type": "code",
   "execution_count": 37,
   "metadata": {},
   "outputs": [
    {
     "name": "stdout",
     "output_type": "stream",
     "text": [
      "Dog\n",
      "Buf buf\n",
      "I am moving!\n"
     ]
    }
   ],
   "source": [
    "doogo = dog()\n",
    "doogo.name()\n",
    "doogo.bark()\n",
    "doogo.walk()"
   ]
  }
 ],
 "metadata": {
  "kernelspec": {
   "display_name": "Python 3",
   "language": "python",
   "name": "python3"
  },
  "language_info": {
   "codemirror_mode": {
    "name": "ipython",
    "version": 3
   },
   "file_extension": ".py",
   "mimetype": "text/x-python",
   "name": "python",
   "nbconvert_exporter": "python",
   "pygments_lexer": "ipython3",
   "version": "3.5.2"
  }
 },
 "nbformat": 4,
 "nbformat_minor": 2
}
